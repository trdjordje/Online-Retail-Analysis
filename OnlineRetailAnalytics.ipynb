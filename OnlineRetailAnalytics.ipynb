{
 "cells": [
  {
   "cell_type": "code",
   "execution_count": 1,
   "metadata": {},
   "outputs": [],
   "source": [
    "# load data using pandas and save data in padnas DataFrame object\n",
    "import pandas as pd\n",
    "data = pd.read_csv('OnlineRetail.csv', encoding=\"ISO-8859-1\")"
   ]
  },
  {
   "cell_type": "code",
   "execution_count": 2,
   "metadata": {},
   "outputs": [
    {
     "data": {
      "text/html": [
       "<div>\n",
       "<style scoped>\n",
       "    .dataframe tbody tr th:only-of-type {\n",
       "        vertical-align: middle;\n",
       "    }\n",
       "\n",
       "    .dataframe tbody tr th {\n",
       "        vertical-align: top;\n",
       "    }\n",
       "\n",
       "    .dataframe thead th {\n",
       "        text-align: right;\n",
       "    }\n",
       "</style>\n",
       "<table border=\"1\" class=\"dataframe\">\n",
       "  <thead>\n",
       "    <tr style=\"text-align: right;\">\n",
       "      <th></th>\n",
       "      <th>InvoiceNo</th>\n",
       "      <th>StockCode</th>\n",
       "      <th>Description</th>\n",
       "      <th>Quantity</th>\n",
       "      <th>InvoiceDate</th>\n",
       "      <th>UnitPrice</th>\n",
       "      <th>CustomerID</th>\n",
       "      <th>Country</th>\n",
       "    </tr>\n",
       "  </thead>\n",
       "  <tbody>\n",
       "    <tr>\n",
       "      <th>0</th>\n",
       "      <td>536365</td>\n",
       "      <td>85123A</td>\n",
       "      <td>WHITE HANGING HEART T-LIGHT HOLDER</td>\n",
       "      <td>6</td>\n",
       "      <td>12/1/2010 8:26</td>\n",
       "      <td>2.55</td>\n",
       "      <td>17850.0</td>\n",
       "      <td>United Kingdom</td>\n",
       "    </tr>\n",
       "    <tr>\n",
       "      <th>1</th>\n",
       "      <td>536365</td>\n",
       "      <td>71053</td>\n",
       "      <td>WHITE METAL LANTERN</td>\n",
       "      <td>6</td>\n",
       "      <td>12/1/2010 8:26</td>\n",
       "      <td>3.39</td>\n",
       "      <td>17850.0</td>\n",
       "      <td>United Kingdom</td>\n",
       "    </tr>\n",
       "    <tr>\n",
       "      <th>2</th>\n",
       "      <td>536365</td>\n",
       "      <td>84406B</td>\n",
       "      <td>CREAM CUPID HEARTS COAT HANGER</td>\n",
       "      <td>8</td>\n",
       "      <td>12/1/2010 8:26</td>\n",
       "      <td>2.75</td>\n",
       "      <td>17850.0</td>\n",
       "      <td>United Kingdom</td>\n",
       "    </tr>\n",
       "    <tr>\n",
       "      <th>3</th>\n",
       "      <td>536365</td>\n",
       "      <td>84029G</td>\n",
       "      <td>KNITTED UNION FLAG HOT WATER BOTTLE</td>\n",
       "      <td>6</td>\n",
       "      <td>12/1/2010 8:26</td>\n",
       "      <td>3.39</td>\n",
       "      <td>17850.0</td>\n",
       "      <td>United Kingdom</td>\n",
       "    </tr>\n",
       "    <tr>\n",
       "      <th>4</th>\n",
       "      <td>536365</td>\n",
       "      <td>84029E</td>\n",
       "      <td>RED WOOLLY HOTTIE WHITE HEART.</td>\n",
       "      <td>6</td>\n",
       "      <td>12/1/2010 8:26</td>\n",
       "      <td>3.39</td>\n",
       "      <td>17850.0</td>\n",
       "      <td>United Kingdom</td>\n",
       "    </tr>\n",
       "  </tbody>\n",
       "</table>\n",
       "</div>"
      ],
      "text/plain": [
       "  InvoiceNo StockCode                          Description  Quantity  \\\n",
       "0    536365    85123A   WHITE HANGING HEART T-LIGHT HOLDER         6   \n",
       "1    536365     71053                  WHITE METAL LANTERN         6   \n",
       "2    536365    84406B       CREAM CUPID HEARTS COAT HANGER         8   \n",
       "3    536365    84029G  KNITTED UNION FLAG HOT WATER BOTTLE         6   \n",
       "4    536365    84029E       RED WOOLLY HOTTIE WHITE HEART.         6   \n",
       "\n",
       "      InvoiceDate  UnitPrice  CustomerID         Country  \n",
       "0  12/1/2010 8:26       2.55     17850.0  United Kingdom  \n",
       "1  12/1/2010 8:26       3.39     17850.0  United Kingdom  \n",
       "2  12/1/2010 8:26       2.75     17850.0  United Kingdom  \n",
       "3  12/1/2010 8:26       3.39     17850.0  United Kingdom  \n",
       "4  12/1/2010 8:26       3.39     17850.0  United Kingdom  "
      ]
     },
     "execution_count": 2,
     "metadata": {},
     "output_type": "execute_result"
    }
   ],
   "source": [
    "# first 5 rows of dataset\n",
    "data.head()"
   ]
  },
  {
   "cell_type": "code",
   "execution_count": 3,
   "metadata": {},
   "outputs": [
    {
     "data": {
      "text/plain": [
       "(541909, 8)"
      ]
     },
     "execution_count": 3,
     "metadata": {},
     "output_type": "execute_result"
    }
   ],
   "source": [
    "# shape of dataset\n",
    "data.shape"
   ]
  },
  {
   "cell_type": "code",
   "execution_count": 4,
   "metadata": {},
   "outputs": [
    {
     "name": "stdout",
     "output_type": "stream",
     "text": [
      "<class 'pandas.core.frame.DataFrame'>\n",
      "RangeIndex: 541909 entries, 0 to 541908\n",
      "Data columns (total 8 columns):\n",
      " #   Column       Non-Null Count   Dtype  \n",
      "---  ------       --------------   -----  \n",
      " 0   InvoiceNo    541909 non-null  object \n",
      " 1   StockCode    541909 non-null  object \n",
      " 2   Description  540455 non-null  object \n",
      " 3   Quantity     541909 non-null  int64  \n",
      " 4   InvoiceDate  541909 non-null  object \n",
      " 5   UnitPrice    541909 non-null  float64\n",
      " 6   CustomerID   406829 non-null  float64\n",
      " 7   Country      541909 non-null  object \n",
      "dtypes: float64(2), int64(1), object(5)\n",
      "memory usage: 33.1+ MB\n"
     ]
    }
   ],
   "source": [
    "# dataset information\n",
    "data.info()"
   ]
  },
  {
   "cell_type": "code",
   "execution_count": 5,
   "metadata": {},
   "outputs": [
    {
     "data": {
      "text/plain": [
       "InvoiceNo           0\n",
       "StockCode           0\n",
       "Description      1454\n",
       "Quantity            0\n",
       "InvoiceDate         0\n",
       "UnitPrice           0\n",
       "CustomerID     135080\n",
       "Country             0\n",
       "dtype: int64"
      ]
     },
     "execution_count": 5,
     "metadata": {},
     "output_type": "execute_result"
    }
   ],
   "source": [
    "# how many NaN values we have in dataset?\n",
    "data.isna().sum()"
   ]
  },
  {
   "cell_type": "code",
   "execution_count": 6,
   "metadata": {},
   "outputs": [],
   "source": [
    "# drop NaN values from dataset\n",
    "data=data.dropna(axis=0)"
   ]
  },
  {
   "cell_type": "code",
   "execution_count": 7,
   "metadata": {},
   "outputs": [
    {
     "data": {
      "text/plain": [
       "InvoiceNo      0\n",
       "StockCode      0\n",
       "Description    0\n",
       "Quantity       0\n",
       "InvoiceDate    0\n",
       "UnitPrice      0\n",
       "CustomerID     0\n",
       "Country        0\n",
       "dtype: int64"
      ]
     },
     "execution_count": 7,
     "metadata": {},
     "output_type": "execute_result"
    }
   ],
   "source": [
    "# how many NaN values we have in dataset?\n",
    "data.isna().sum()"
   ]
  },
  {
   "cell_type": "code",
   "execution_count": 8,
   "metadata": {},
   "outputs": [
    {
     "data": {
      "text/plain": [
       "(406829, 8)"
      ]
     },
     "execution_count": 8,
     "metadata": {},
     "output_type": "execute_result"
    }
   ],
   "source": [
    "# shape of dataset after removing NaN values\n",
    "data.shape"
   ]
  },
  {
   "cell_type": "code",
   "execution_count": 9,
   "metadata": {},
   "outputs": [],
   "source": [
    "# data.groupby('Country')['CustomerID'].count()"
   ]
  },
  {
   "cell_type": "code",
   "execution_count": 10,
   "metadata": {},
   "outputs": [],
   "source": [
    "# create new column \n",
    "data['newCountry'] = 'United Kingdom'\n",
    "data.loc[data['Country']!='United Kingdom','newCountry'] = 'Rest' "
   ]
  },
  {
   "cell_type": "code",
   "execution_count": 11,
   "metadata": {},
   "outputs": [
    {
     "data": {
      "text/plain": [
       "newCountry\n",
       "Rest               44951\n",
       "United Kingdom    361878\n",
       "Name: CustomerID, dtype: int64"
      ]
     },
     "execution_count": 11,
     "metadata": {},
     "output_type": "execute_result"
    }
   ],
   "source": [
    "data.groupby('newCountry')['CustomerID'].count()"
   ]
  },
  {
   "cell_type": "code",
   "execution_count": 12,
   "metadata": {},
   "outputs": [],
   "source": [
    "# drop columns from dataset\n",
    "data = data.drop(columns=['Description'])"
   ]
  },
  {
   "cell_type": "code",
   "execution_count": 13,
   "metadata": {},
   "outputs": [],
   "source": [
    "#convert the string date field to datetime\n",
    "data['InvoiceDate'] = pd.to_datetime(data['InvoiceDate'])"
   ]
  },
  {
   "cell_type": "code",
   "execution_count": 14,
   "metadata": {},
   "outputs": [
    {
     "data": {
      "text/html": [
       "<div>\n",
       "<style scoped>\n",
       "    .dataframe tbody tr th:only-of-type {\n",
       "        vertical-align: middle;\n",
       "    }\n",
       "\n",
       "    .dataframe tbody tr th {\n",
       "        vertical-align: top;\n",
       "    }\n",
       "\n",
       "    .dataframe thead th {\n",
       "        text-align: right;\n",
       "    }\n",
       "</style>\n",
       "<table border=\"1\" class=\"dataframe\">\n",
       "  <thead>\n",
       "    <tr style=\"text-align: right;\">\n",
       "      <th></th>\n",
       "      <th>InvoiceNo</th>\n",
       "      <th>StockCode</th>\n",
       "      <th>Quantity</th>\n",
       "      <th>InvoiceDate</th>\n",
       "      <th>UnitPrice</th>\n",
       "      <th>CustomerID</th>\n",
       "      <th>Country</th>\n",
       "      <th>newCountry</th>\n",
       "    </tr>\n",
       "  </thead>\n",
       "  <tbody>\n",
       "    <tr>\n",
       "      <th>0</th>\n",
       "      <td>536365</td>\n",
       "      <td>85123A</td>\n",
       "      <td>6</td>\n",
       "      <td>2010-12-01 08:26:00</td>\n",
       "      <td>2.55</td>\n",
       "      <td>17850.0</td>\n",
       "      <td>United Kingdom</td>\n",
       "      <td>United Kingdom</td>\n",
       "    </tr>\n",
       "    <tr>\n",
       "      <th>1</th>\n",
       "      <td>536365</td>\n",
       "      <td>71053</td>\n",
       "      <td>6</td>\n",
       "      <td>2010-12-01 08:26:00</td>\n",
       "      <td>3.39</td>\n",
       "      <td>17850.0</td>\n",
       "      <td>United Kingdom</td>\n",
       "      <td>United Kingdom</td>\n",
       "    </tr>\n",
       "    <tr>\n",
       "      <th>2</th>\n",
       "      <td>536365</td>\n",
       "      <td>84406B</td>\n",
       "      <td>8</td>\n",
       "      <td>2010-12-01 08:26:00</td>\n",
       "      <td>2.75</td>\n",
       "      <td>17850.0</td>\n",
       "      <td>United Kingdom</td>\n",
       "      <td>United Kingdom</td>\n",
       "    </tr>\n",
       "    <tr>\n",
       "      <th>3</th>\n",
       "      <td>536365</td>\n",
       "      <td>84029G</td>\n",
       "      <td>6</td>\n",
       "      <td>2010-12-01 08:26:00</td>\n",
       "      <td>3.39</td>\n",
       "      <td>17850.0</td>\n",
       "      <td>United Kingdom</td>\n",
       "      <td>United Kingdom</td>\n",
       "    </tr>\n",
       "    <tr>\n",
       "      <th>4</th>\n",
       "      <td>536365</td>\n",
       "      <td>84029E</td>\n",
       "      <td>6</td>\n",
       "      <td>2010-12-01 08:26:00</td>\n",
       "      <td>3.39</td>\n",
       "      <td>17850.0</td>\n",
       "      <td>United Kingdom</td>\n",
       "      <td>United Kingdom</td>\n",
       "    </tr>\n",
       "    <tr>\n",
       "      <th>...</th>\n",
       "      <td>...</td>\n",
       "      <td>...</td>\n",
       "      <td>...</td>\n",
       "      <td>...</td>\n",
       "      <td>...</td>\n",
       "      <td>...</td>\n",
       "      <td>...</td>\n",
       "      <td>...</td>\n",
       "    </tr>\n",
       "    <tr>\n",
       "      <th>195</th>\n",
       "      <td>536388</td>\n",
       "      <td>22469</td>\n",
       "      <td>12</td>\n",
       "      <td>2010-12-01 09:59:00</td>\n",
       "      <td>1.65</td>\n",
       "      <td>16250.0</td>\n",
       "      <td>United Kingdom</td>\n",
       "      <td>United Kingdom</td>\n",
       "    </tr>\n",
       "    <tr>\n",
       "      <th>196</th>\n",
       "      <td>536388</td>\n",
       "      <td>22242</td>\n",
       "      <td>12</td>\n",
       "      <td>2010-12-01 09:59:00</td>\n",
       "      <td>1.65</td>\n",
       "      <td>16250.0</td>\n",
       "      <td>United Kingdom</td>\n",
       "      <td>United Kingdom</td>\n",
       "    </tr>\n",
       "    <tr>\n",
       "      <th>197</th>\n",
       "      <td>536389</td>\n",
       "      <td>22941</td>\n",
       "      <td>6</td>\n",
       "      <td>2010-12-01 10:03:00</td>\n",
       "      <td>8.50</td>\n",
       "      <td>12431.0</td>\n",
       "      <td>Australia</td>\n",
       "      <td>Rest</td>\n",
       "    </tr>\n",
       "    <tr>\n",
       "      <th>198</th>\n",
       "      <td>536389</td>\n",
       "      <td>21622</td>\n",
       "      <td>8</td>\n",
       "      <td>2010-12-01 10:03:00</td>\n",
       "      <td>4.95</td>\n",
       "      <td>12431.0</td>\n",
       "      <td>Australia</td>\n",
       "      <td>Rest</td>\n",
       "    </tr>\n",
       "    <tr>\n",
       "      <th>199</th>\n",
       "      <td>536389</td>\n",
       "      <td>21791</td>\n",
       "      <td>12</td>\n",
       "      <td>2010-12-01 10:03:00</td>\n",
       "      <td>1.25</td>\n",
       "      <td>12431.0</td>\n",
       "      <td>Australia</td>\n",
       "      <td>Rest</td>\n",
       "    </tr>\n",
       "  </tbody>\n",
       "</table>\n",
       "<p>200 rows × 8 columns</p>\n",
       "</div>"
      ],
      "text/plain": [
       "    InvoiceNo StockCode  Quantity         InvoiceDate  UnitPrice  CustomerID  \\\n",
       "0      536365    85123A         6 2010-12-01 08:26:00       2.55     17850.0   \n",
       "1      536365     71053         6 2010-12-01 08:26:00       3.39     17850.0   \n",
       "2      536365    84406B         8 2010-12-01 08:26:00       2.75     17850.0   \n",
       "3      536365    84029G         6 2010-12-01 08:26:00       3.39     17850.0   \n",
       "4      536365    84029E         6 2010-12-01 08:26:00       3.39     17850.0   \n",
       "..        ...       ...       ...                 ...        ...         ...   \n",
       "195    536388     22469        12 2010-12-01 09:59:00       1.65     16250.0   \n",
       "196    536388     22242        12 2010-12-01 09:59:00       1.65     16250.0   \n",
       "197    536389     22941         6 2010-12-01 10:03:00       8.50     12431.0   \n",
       "198    536389     21622         8 2010-12-01 10:03:00       4.95     12431.0   \n",
       "199    536389     21791        12 2010-12-01 10:03:00       1.25     12431.0   \n",
       "\n",
       "            Country      newCountry  \n",
       "0    United Kingdom  United Kingdom  \n",
       "1    United Kingdom  United Kingdom  \n",
       "2    United Kingdom  United Kingdom  \n",
       "3    United Kingdom  United Kingdom  \n",
       "4    United Kingdom  United Kingdom  \n",
       "..              ...             ...  \n",
       "195  United Kingdom  United Kingdom  \n",
       "196  United Kingdom  United Kingdom  \n",
       "197       Australia            Rest  \n",
       "198       Australia            Rest  \n",
       "199       Australia            Rest  \n",
       "\n",
       "[200 rows x 8 columns]"
      ]
     },
     "execution_count": 14,
     "metadata": {},
     "output_type": "execute_result"
    }
   ],
   "source": [
    "data.head(200)"
   ]
  },
  {
   "cell_type": "code",
   "execution_count": 15,
   "metadata": {},
   "outputs": [],
   "source": [
    "data['InvoiceDates'] = pd.to_datetime(data['InvoiceDate']).dt.date\n",
    "data['InvoiceTime'] = pd.to_datetime(data['InvoiceDate']).dt.time"
   ]
  },
  {
   "cell_type": "code",
   "execution_count": 16,
   "metadata": {},
   "outputs": [
    {
     "data": {
      "text/html": [
       "<div>\n",
       "<style scoped>\n",
       "    .dataframe tbody tr th:only-of-type {\n",
       "        vertical-align: middle;\n",
       "    }\n",
       "\n",
       "    .dataframe tbody tr th {\n",
       "        vertical-align: top;\n",
       "    }\n",
       "\n",
       "    .dataframe thead th {\n",
       "        text-align: right;\n",
       "    }\n",
       "</style>\n",
       "<table border=\"1\" class=\"dataframe\">\n",
       "  <thead>\n",
       "    <tr style=\"text-align: right;\">\n",
       "      <th></th>\n",
       "      <th>InvoiceNo</th>\n",
       "      <th>StockCode</th>\n",
       "      <th>Quantity</th>\n",
       "      <th>InvoiceDate</th>\n",
       "      <th>UnitPrice</th>\n",
       "      <th>CustomerID</th>\n",
       "      <th>Country</th>\n",
       "      <th>newCountry</th>\n",
       "      <th>InvoiceDates</th>\n",
       "      <th>InvoiceTime</th>\n",
       "    </tr>\n",
       "  </thead>\n",
       "  <tbody>\n",
       "    <tr>\n",
       "      <th>0</th>\n",
       "      <td>536365</td>\n",
       "      <td>85123A</td>\n",
       "      <td>6</td>\n",
       "      <td>2010-12-01 08:26:00</td>\n",
       "      <td>2.55</td>\n",
       "      <td>17850.0</td>\n",
       "      <td>United Kingdom</td>\n",
       "      <td>United Kingdom</td>\n",
       "      <td>2010-12-01</td>\n",
       "      <td>08:26:00</td>\n",
       "    </tr>\n",
       "    <tr>\n",
       "      <th>1</th>\n",
       "      <td>536365</td>\n",
       "      <td>71053</td>\n",
       "      <td>6</td>\n",
       "      <td>2010-12-01 08:26:00</td>\n",
       "      <td>3.39</td>\n",
       "      <td>17850.0</td>\n",
       "      <td>United Kingdom</td>\n",
       "      <td>United Kingdom</td>\n",
       "      <td>2010-12-01</td>\n",
       "      <td>08:26:00</td>\n",
       "    </tr>\n",
       "    <tr>\n",
       "      <th>2</th>\n",
       "      <td>536365</td>\n",
       "      <td>84406B</td>\n",
       "      <td>8</td>\n",
       "      <td>2010-12-01 08:26:00</td>\n",
       "      <td>2.75</td>\n",
       "      <td>17850.0</td>\n",
       "      <td>United Kingdom</td>\n",
       "      <td>United Kingdom</td>\n",
       "      <td>2010-12-01</td>\n",
       "      <td>08:26:00</td>\n",
       "    </tr>\n",
       "    <tr>\n",
       "      <th>3</th>\n",
       "      <td>536365</td>\n",
       "      <td>84029G</td>\n",
       "      <td>6</td>\n",
       "      <td>2010-12-01 08:26:00</td>\n",
       "      <td>3.39</td>\n",
       "      <td>17850.0</td>\n",
       "      <td>United Kingdom</td>\n",
       "      <td>United Kingdom</td>\n",
       "      <td>2010-12-01</td>\n",
       "      <td>08:26:00</td>\n",
       "    </tr>\n",
       "    <tr>\n",
       "      <th>4</th>\n",
       "      <td>536365</td>\n",
       "      <td>84029E</td>\n",
       "      <td>6</td>\n",
       "      <td>2010-12-01 08:26:00</td>\n",
       "      <td>3.39</td>\n",
       "      <td>17850.0</td>\n",
       "      <td>United Kingdom</td>\n",
       "      <td>United Kingdom</td>\n",
       "      <td>2010-12-01</td>\n",
       "      <td>08:26:00</td>\n",
       "    </tr>\n",
       "  </tbody>\n",
       "</table>\n",
       "</div>"
      ],
      "text/plain": [
       "  InvoiceNo StockCode  Quantity         InvoiceDate  UnitPrice  CustomerID  \\\n",
       "0    536365    85123A         6 2010-12-01 08:26:00       2.55     17850.0   \n",
       "1    536365     71053         6 2010-12-01 08:26:00       3.39     17850.0   \n",
       "2    536365    84406B         8 2010-12-01 08:26:00       2.75     17850.0   \n",
       "3    536365    84029G         6 2010-12-01 08:26:00       3.39     17850.0   \n",
       "4    536365    84029E         6 2010-12-01 08:26:00       3.39     17850.0   \n",
       "\n",
       "          Country      newCountry InvoiceDates InvoiceTime  \n",
       "0  United Kingdom  United Kingdom   2010-12-01    08:26:00  \n",
       "1  United Kingdom  United Kingdom   2010-12-01    08:26:00  \n",
       "2  United Kingdom  United Kingdom   2010-12-01    08:26:00  \n",
       "3  United Kingdom  United Kingdom   2010-12-01    08:26:00  \n",
       "4  United Kingdom  United Kingdom   2010-12-01    08:26:00  "
      ]
     },
     "execution_count": 16,
     "metadata": {},
     "output_type": "execute_result"
    }
   ],
   "source": [
    "data.head()"
   ]
  },
  {
   "cell_type": "code",
   "execution_count": 17,
   "metadata": {},
   "outputs": [
    {
     "name": "stdout",
     "output_type": "stream",
     "text": [
      "Max invoice date is 2011-12-09, min invoice date is 2010-12-01.\n"
     ]
    }
   ],
   "source": [
    "print(\"Max invoice date is {}, min invoice date is {}.\".format(data['InvoiceDates'].max(), data['InvoiceDates'].min()))"
   ]
  },
  {
   "cell_type": "code",
   "execution_count": 18,
   "metadata": {},
   "outputs": [
    {
     "data": {
      "text/html": [
       "<div>\n",
       "<style scoped>\n",
       "    .dataframe tbody tr th:only-of-type {\n",
       "        vertical-align: middle;\n",
       "    }\n",
       "\n",
       "    .dataframe tbody tr th {\n",
       "        vertical-align: top;\n",
       "    }\n",
       "\n",
       "    .dataframe thead tr th {\n",
       "        text-align: left;\n",
       "    }\n",
       "\n",
       "    .dataframe thead tr:last-of-type th {\n",
       "        text-align: right;\n",
       "    }\n",
       "</style>\n",
       "<table border=\"1\" class=\"dataframe\">\n",
       "  <thead>\n",
       "    <tr>\n",
       "      <th></th>\n",
       "      <th>InvoiceNo</th>\n",
       "      <th>CustomerID</th>\n",
       "      <th colspan=\"4\" halign=\"left\">Quantity</th>\n",
       "      <th colspan=\"4\" halign=\"left\">UnitPrice</th>\n",
       "    </tr>\n",
       "    <tr>\n",
       "      <th></th>\n",
       "      <th>count</th>\n",
       "      <th>nunique</th>\n",
       "      <th>sum</th>\n",
       "      <th>mean</th>\n",
       "      <th>min</th>\n",
       "      <th>max</th>\n",
       "      <th>sum</th>\n",
       "      <th>mean</th>\n",
       "      <th>min</th>\n",
       "      <th>max</th>\n",
       "    </tr>\n",
       "    <tr>\n",
       "      <th>newCountry</th>\n",
       "      <th></th>\n",
       "      <th></th>\n",
       "      <th></th>\n",
       "      <th></th>\n",
       "      <th></th>\n",
       "      <th></th>\n",
       "      <th></th>\n",
       "      <th></th>\n",
       "      <th></th>\n",
       "      <th></th>\n",
       "    </tr>\n",
       "  </thead>\n",
       "  <tbody>\n",
       "    <tr>\n",
       "      <th>Rest</th>\n",
       "      <td>44951</td>\n",
       "      <td>422</td>\n",
       "      <td>898355</td>\n",
       "      <td>19.98521</td>\n",
       "      <td>-624</td>\n",
       "      <td>2400</td>\n",
       "      <td>2.29543e+05</td>\n",
       "      <td>5.10651</td>\n",
       "      <td>0.0</td>\n",
       "      <td>4161.06</td>\n",
       "    </tr>\n",
       "    <tr>\n",
       "      <th>United Kingdom</th>\n",
       "      <td>361878</td>\n",
       "      <td>3950</td>\n",
       "      <td>4008533</td>\n",
       "      <td>11.07703</td>\n",
       "      <td>-80995</td>\n",
       "      <td>80995</td>\n",
       "      <td>1.17828e+06</td>\n",
       "      <td>3.25601</td>\n",
       "      <td>0.0</td>\n",
       "      <td>38970.00</td>\n",
       "    </tr>\n",
       "  </tbody>\n",
       "</table>\n",
       "</div>"
      ],
      "text/plain": [
       "               InvoiceNo CustomerID Quantity                          \\\n",
       "                   count    nunique      sum      mean    min    max   \n",
       "newCountry                                                             \n",
       "Rest               44951        422   898355  19.98521   -624   2400   \n",
       "United Kingdom    361878       3950  4008533  11.07703 -80995  80995   \n",
       "\n",
       "                  UnitPrice                          \n",
       "                        sum     mean  min       max  \n",
       "newCountry                                           \n",
       "Rest            2.29543e+05  5.10651  0.0   4161.06  \n",
       "United Kingdom  1.17828e+06  3.25601  0.0  38970.00  "
      ]
     },
     "execution_count": 18,
     "metadata": {},
     "output_type": "execute_result"
    }
   ],
   "source": [
    "pd.set_option(\"precision\", 5)\n",
    "data.groupby('newCountry').agg({'InvoiceNo':'count',\n",
    "                                 'CustomerID':'nunique',\n",
    "                                'Quantity':['sum', 'mean', 'min', 'max'],\n",
    "                                'UnitPrice':['sum', 'mean', 'min', 'max']})"
   ]
  },
  {
   "cell_type": "code",
   "execution_count": 19,
   "metadata": {},
   "outputs": [],
   "source": [
    "# we want only positive Quantity in dataset\n",
    "\n",
    "data = data[data['Quantity']>0]"
   ]
  },
  {
   "cell_type": "code",
   "execution_count": 20,
   "metadata": {},
   "outputs": [
    {
     "data": {
      "text/html": [
       "<div>\n",
       "<style scoped>\n",
       "    .dataframe tbody tr th:only-of-type {\n",
       "        vertical-align: middle;\n",
       "    }\n",
       "\n",
       "    .dataframe tbody tr th {\n",
       "        vertical-align: top;\n",
       "    }\n",
       "\n",
       "    .dataframe thead tr th {\n",
       "        text-align: left;\n",
       "    }\n",
       "\n",
       "    .dataframe thead tr:last-of-type th {\n",
       "        text-align: right;\n",
       "    }\n",
       "</style>\n",
       "<table border=\"1\" class=\"dataframe\">\n",
       "  <thead>\n",
       "    <tr>\n",
       "      <th></th>\n",
       "      <th>InvoiceNo</th>\n",
       "      <th>CustomerID</th>\n",
       "      <th colspan=\"4\" halign=\"left\">Quantity</th>\n",
       "      <th colspan=\"4\" halign=\"left\">UnitPrice</th>\n",
       "    </tr>\n",
       "    <tr>\n",
       "      <th></th>\n",
       "      <th>count</th>\n",
       "      <th>nunique</th>\n",
       "      <th>sum</th>\n",
       "      <th>mean</th>\n",
       "      <th>min</th>\n",
       "      <th>max</th>\n",
       "      <th>sum</th>\n",
       "      <th>mean</th>\n",
       "      <th>min</th>\n",
       "      <th>max</th>\n",
       "    </tr>\n",
       "    <tr>\n",
       "      <th>newCountry</th>\n",
       "      <th></th>\n",
       "      <th></th>\n",
       "      <th></th>\n",
       "      <th></th>\n",
       "      <th></th>\n",
       "      <th></th>\n",
       "      <th></th>\n",
       "      <th></th>\n",
       "      <th></th>\n",
       "      <th></th>\n",
       "    </tr>\n",
       "  </thead>\n",
       "  <tbody>\n",
       "    <tr>\n",
       "      <th>Rest</th>\n",
       "      <td>43579</td>\n",
       "      <td>418</td>\n",
       "      <td>912224</td>\n",
       "      <td>20.93265</td>\n",
       "      <td>1</td>\n",
       "      <td>2400</td>\n",
       "      <td>1.89795e+05</td>\n",
       "      <td>4.35520</td>\n",
       "      <td>0.0</td>\n",
       "      <td>4161.06</td>\n",
       "    </tr>\n",
       "    <tr>\n",
       "      <th>United Kingdom</th>\n",
       "      <td>354345</td>\n",
       "      <td>3921</td>\n",
       "      <td>4269472</td>\n",
       "      <td>12.04891</td>\n",
       "      <td>1</td>\n",
       "      <td>80995</td>\n",
       "      <td>1.05021e+06</td>\n",
       "      <td>2.96379</td>\n",
       "      <td>0.0</td>\n",
       "      <td>8142.75</td>\n",
       "    </tr>\n",
       "  </tbody>\n",
       "</table>\n",
       "</div>"
      ],
      "text/plain": [
       "               InvoiceNo CustomerID Quantity                       \\\n",
       "                   count    nunique      sum      mean min    max   \n",
       "newCountry                                                          \n",
       "Rest               43579        418   912224  20.93265   1   2400   \n",
       "United Kingdom    354345       3921  4269472  12.04891   1  80995   \n",
       "\n",
       "                  UnitPrice                         \n",
       "                        sum     mean  min      max  \n",
       "newCountry                                          \n",
       "Rest            1.89795e+05  4.35520  0.0  4161.06  \n",
       "United Kingdom  1.05021e+06  2.96379  0.0  8142.75  "
      ]
     },
     "execution_count": 20,
     "metadata": {},
     "output_type": "execute_result"
    }
   ],
   "source": [
    "data.groupby('newCountry').agg({'InvoiceNo':'count',\n",
    "                                'CustomerID':'nunique',\n",
    "                                'Quantity':['sum', 'mean', 'min', 'max'],\n",
    "                                'UnitPrice':['sum', 'mean', 'min', 'max']})"
   ]
  },
  {
   "cell_type": "code",
   "execution_count": 21,
   "metadata": {},
   "outputs": [
    {
     "data": {
      "text/plain": [
       "<AxesSubplot:xlabel='Quantity', ylabel='UnitPrice'>"
      ]
     },
     "execution_count": 21,
     "metadata": {},
     "output_type": "execute_result"
    },
    {
     "data": {
      "image/png": "[encoded data removed]",
      "text/plain": [
       "<Figure size 1080x432 with 1 Axes>"
      ]
     },
     "metadata": {
      "needs_background": "light"
     },
     "output_type": "display_data"
    }
   ],
   "source": [
    "import seaborn as sns\n",
    "import matplotlib.pyplot as plt\n",
    "\n",
    "plt.figure(figsize=(15,6))\n",
    "sns.scatterplot(data=data, x='Quantity', y='UnitPrice', hue='newCountry')"
   ]
  },
  {
   "cell_type": "code",
   "execution_count": 22,
   "metadata": {},
   "outputs": [
    {
     "data": {
      "text/html": [
       "<div>\n",
       "<style scoped>\n",
       "    .dataframe tbody tr th:only-of-type {\n",
       "        vertical-align: middle;\n",
       "    }\n",
       "\n",
       "    .dataframe tbody tr th {\n",
       "        vertical-align: top;\n",
       "    }\n",
       "\n",
       "    .dataframe thead th {\n",
       "        text-align: right;\n",
       "    }\n",
       "</style>\n",
       "<table border=\"1\" class=\"dataframe\">\n",
       "  <thead>\n",
       "    <tr style=\"text-align: right;\">\n",
       "      <th></th>\n",
       "      <th>count</th>\n",
       "      <th>mean</th>\n",
       "      <th>std</th>\n",
       "      <th>min</th>\n",
       "      <th>10%</th>\n",
       "      <th>20%</th>\n",
       "      <th>25%</th>\n",
       "      <th>30%</th>\n",
       "      <th>40%</th>\n",
       "      <th>50%</th>\n",
       "      <th>60%</th>\n",
       "      <th>70%</th>\n",
       "      <th>75%</th>\n",
       "      <th>80%</th>\n",
       "      <th>90%</th>\n",
       "      <th>95%</th>\n",
       "      <th>99%</th>\n",
       "      <th>max</th>\n",
       "    </tr>\n",
       "  </thead>\n",
       "  <tbody>\n",
       "    <tr>\n",
       "      <th>Quantity</th>\n",
       "      <td>397924.0</td>\n",
       "      <td>13.02182</td>\n",
       "      <td>180.42021</td>\n",
       "      <td>1.0</td>\n",
       "      <td>1.00</td>\n",
       "      <td>2.00</td>\n",
       "      <td>2.00</td>\n",
       "      <td>2.00</td>\n",
       "      <td>4.00</td>\n",
       "      <td>6.00</td>\n",
       "      <td>8.0</td>\n",
       "      <td>12.00</td>\n",
       "      <td>12.00</td>\n",
       "      <td>12.00</td>\n",
       "      <td>24.00</td>\n",
       "      <td>36.0</td>\n",
       "      <td>120.00</td>\n",
       "      <td>80995.00</td>\n",
       "    </tr>\n",
       "    <tr>\n",
       "      <th>UnitPrice</th>\n",
       "      <td>397924.0</td>\n",
       "      <td>3.11617</td>\n",
       "      <td>22.09679</td>\n",
       "      <td>0.0</td>\n",
       "      <td>0.55</td>\n",
       "      <td>0.85</td>\n",
       "      <td>1.25</td>\n",
       "      <td>1.25</td>\n",
       "      <td>1.65</td>\n",
       "      <td>1.95</td>\n",
       "      <td>2.1</td>\n",
       "      <td>2.95</td>\n",
       "      <td>3.75</td>\n",
       "      <td>4.15</td>\n",
       "      <td>6.35</td>\n",
       "      <td>8.5</td>\n",
       "      <td>14.95</td>\n",
       "      <td>8142.75</td>\n",
       "    </tr>\n",
       "  </tbody>\n",
       "</table>\n",
       "</div>"
      ],
      "text/plain": [
       "              count      mean        std  min   10%   20%   25%   30%   40%  \\\n",
       "Quantity   397924.0  13.02182  180.42021  1.0  1.00  2.00  2.00  2.00  4.00   \n",
       "UnitPrice  397924.0   3.11617   22.09679  0.0  0.55  0.85  1.25  1.25  1.65   \n",
       "\n",
       "            50%  60%    70%    75%    80%    90%   95%     99%       max  \n",
       "Quantity   6.00  8.0  12.00  12.00  12.00  24.00  36.0  120.00  80995.00  \n",
       "UnitPrice  1.95  2.1   2.95   3.75   4.15   6.35   8.5   14.95   8142.75  "
      ]
     },
     "execution_count": 22,
     "metadata": {},
     "output_type": "execute_result"
    }
   ],
   "source": [
    "data[['Quantity', 'UnitPrice']].describe(percentiles=[.1, .2, .25, .3, .4, .5, .6, .7, .75, .8, .9, .95, .99]).transpose()"
   ]
  },
  {
   "cell_type": "code",
   "execution_count": 23,
   "metadata": {},
   "outputs": [
    {
     "data": {
      "text/html": [
       "<div>\n",
       "<style scoped>\n",
       "    .dataframe tbody tr th:only-of-type {\n",
       "        vertical-align: middle;\n",
       "    }\n",
       "\n",
       "    .dataframe tbody tr th {\n",
       "        vertical-align: top;\n",
       "    }\n",
       "\n",
       "    .dataframe thead th {\n",
       "        text-align: right;\n",
       "    }\n",
       "</style>\n",
       "<table border=\"1\" class=\"dataframe\">\n",
       "  <thead>\n",
       "    <tr style=\"text-align: right;\">\n",
       "      <th></th>\n",
       "      <th>count</th>\n",
       "      <th>mean</th>\n",
       "      <th>std</th>\n",
       "      <th>min</th>\n",
       "      <th>10%</th>\n",
       "      <th>20%</th>\n",
       "      <th>25%</th>\n",
       "      <th>30%</th>\n",
       "      <th>40%</th>\n",
       "      <th>50%</th>\n",
       "      <th>60%</th>\n",
       "      <th>70%</th>\n",
       "      <th>75%</th>\n",
       "      <th>80%</th>\n",
       "      <th>90%</th>\n",
       "      <th>95%</th>\n",
       "      <th>99%</th>\n",
       "      <th>max</th>\n",
       "    </tr>\n",
       "  </thead>\n",
       "  <tbody>\n",
       "    <tr>\n",
       "      <th>Quantity</th>\n",
       "      <td>394023.0</td>\n",
       "      <td>9.83747</td>\n",
       "      <td>14.53787</td>\n",
       "      <td>1.0</td>\n",
       "      <td>1.00</td>\n",
       "      <td>2.00</td>\n",
       "      <td>2.00</td>\n",
       "      <td>2.00</td>\n",
       "      <td>3.00</td>\n",
       "      <td>5.00</td>\n",
       "      <td>7.0</td>\n",
       "      <td>12.00</td>\n",
       "      <td>12.00</td>\n",
       "      <td>12.00</td>\n",
       "      <td>24.00</td>\n",
       "      <td>32.0</td>\n",
       "      <td>96.00</td>\n",
       "      <td>120.0</td>\n",
       "    </tr>\n",
       "    <tr>\n",
       "      <th>UnitPrice</th>\n",
       "      <td>394023.0</td>\n",
       "      <td>3.07385</td>\n",
       "      <td>13.13016</td>\n",
       "      <td>0.0</td>\n",
       "      <td>0.55</td>\n",
       "      <td>0.85</td>\n",
       "      <td>1.25</td>\n",
       "      <td>1.25</td>\n",
       "      <td>1.65</td>\n",
       "      <td>1.95</td>\n",
       "      <td>2.1</td>\n",
       "      <td>2.95</td>\n",
       "      <td>3.75</td>\n",
       "      <td>4.15</td>\n",
       "      <td>6.45</td>\n",
       "      <td>8.5</td>\n",
       "      <td>14.95</td>\n",
       "      <td>2500.0</td>\n",
       "    </tr>\n",
       "  </tbody>\n",
       "</table>\n",
       "</div>"
      ],
      "text/plain": [
       "              count     mean       std  min   10%   20%   25%   30%   40%  \\\n",
       "Quantity   394023.0  9.83747  14.53787  1.0  1.00  2.00  2.00  2.00  3.00   \n",
       "UnitPrice  394023.0  3.07385  13.13016  0.0  0.55  0.85  1.25  1.25  1.65   \n",
       "\n",
       "            50%  60%    70%    75%    80%    90%   95%    99%     max  \n",
       "Quantity   5.00  7.0  12.00  12.00  12.00  24.00  32.0  96.00   120.0  \n",
       "UnitPrice  1.95  2.1   2.95   3.75   4.15   6.45   8.5  14.95  2500.0  "
      ]
     },
     "execution_count": 23,
     "metadata": {},
     "output_type": "execute_result"
    }
   ],
   "source": [
    "data[(data['Quantity']<=120) & (data['UnitPrice'] < 3000)][['Quantity', 'UnitPrice']].describe(percentiles=[.1, .2, .25, .3, .4, .5, .6, .7, .75, .8, .9, .95, .99]).transpose()"
   ]
  },
  {
   "cell_type": "code",
   "execution_count": 24,
   "metadata": {},
   "outputs": [],
   "source": [
    "import warnings\n",
    "warnings.filterwarnings(\"ignore\")"
   ]
  },
  {
   "cell_type": "code",
   "execution_count": 25,
   "metadata": {},
   "outputs": [],
   "source": [
    "data = data[(data['Quantity']<=120) & (data['UnitPrice'] < 3000)]"
   ]
  },
  {
   "cell_type": "code",
   "execution_count": 26,
   "metadata": {},
   "outputs": [
    {
     "data": {
      "text/plain": [
       "<AxesSubplot:xlabel='Quantity', ylabel='Density'>"
      ]
     },
     "execution_count": 26,
     "metadata": {},
     "output_type": "execute_result"
    },
    {
     "data": {
      "image/png": "[encoded data removed]",
      "text/plain": [
       "<Figure size 1080x288 with 1 Axes>"
      ]
     },
     "metadata": {
      "needs_background": "light"
     },
     "output_type": "display_data"
    }
   ],
   "source": [
    "plt.figure(figsize=(15,4))\n",
    "sns.distplot(data['Quantity'])"
   ]
  },
  {
   "cell_type": "code",
   "execution_count": 27,
   "metadata": {},
   "outputs": [
    {
     "data": {
      "text/plain": [
       "<AxesSubplot:xlabel='UnitPrice', ylabel='Density'>"
      ]
     },
     "execution_count": 27,
     "metadata": {},
     "output_type": "execute_result"
    },
    {
     "data": {
      "image/png": "[encoded data removed]",
      "text/plain": [
       "<Figure size 1080x288 with 1 Axes>"
      ]
     },
     "metadata": {
      "needs_background": "light"
     },
     "output_type": "display_data"
    }
   ],
   "source": [
    "plt.figure(figsize=(15,4))\n",
    "sns.distplot(data['UnitPrice'])"
   ]
  },
  {
   "cell_type": "code",
   "execution_count": 28,
   "metadata": {},
   "outputs": [
    {
     "data": {
      "text/plain": [
       "(394023, 10)"
      ]
     },
     "execution_count": 28,
     "metadata": {},
     "output_type": "execute_result"
    }
   ],
   "source": [
    "data.shape"
   ]
  },
  {
   "cell_type": "code",
   "execution_count": 29,
   "metadata": {},
   "outputs": [
    {
     "data": {
      "text/html": [
       "<div>\n",
       "<style scoped>\n",
       "    .dataframe tbody tr th:only-of-type {\n",
       "        vertical-align: middle;\n",
       "    }\n",
       "\n",
       "    .dataframe tbody tr th {\n",
       "        vertical-align: top;\n",
       "    }\n",
       "\n",
       "    .dataframe thead th {\n",
       "        text-align: right;\n",
       "    }\n",
       "</style>\n",
       "<table border=\"1\" class=\"dataframe\">\n",
       "  <thead>\n",
       "    <tr style=\"text-align: right;\">\n",
       "      <th></th>\n",
       "      <th>InvoiceNo</th>\n",
       "      <th>StockCode</th>\n",
       "      <th>Quantity</th>\n",
       "      <th>InvoiceDate</th>\n",
       "      <th>UnitPrice</th>\n",
       "      <th>CustomerID</th>\n",
       "      <th>Country</th>\n",
       "      <th>newCountry</th>\n",
       "      <th>InvoiceDates</th>\n",
       "      <th>InvoiceTime</th>\n",
       "    </tr>\n",
       "  </thead>\n",
       "  <tbody>\n",
       "    <tr>\n",
       "      <th>0</th>\n",
       "      <td>536365</td>\n",
       "      <td>85123A</td>\n",
       "      <td>6</td>\n",
       "      <td>2010-12-01 08:26:00</td>\n",
       "      <td>2.55</td>\n",
       "      <td>17850.0</td>\n",
       "      <td>United Kingdom</td>\n",
       "      <td>United Kingdom</td>\n",
       "      <td>2010-12-01</td>\n",
       "      <td>08:26:00</td>\n",
       "    </tr>\n",
       "    <tr>\n",
       "      <th>1</th>\n",
       "      <td>536365</td>\n",
       "      <td>71053</td>\n",
       "      <td>6</td>\n",
       "      <td>2010-12-01 08:26:00</td>\n",
       "      <td>3.39</td>\n",
       "      <td>17850.0</td>\n",
       "      <td>United Kingdom</td>\n",
       "      <td>United Kingdom</td>\n",
       "      <td>2010-12-01</td>\n",
       "      <td>08:26:00</td>\n",
       "    </tr>\n",
       "    <tr>\n",
       "      <th>2</th>\n",
       "      <td>536365</td>\n",
       "      <td>84406B</td>\n",
       "      <td>8</td>\n",
       "      <td>2010-12-01 08:26:00</td>\n",
       "      <td>2.75</td>\n",
       "      <td>17850.0</td>\n",
       "      <td>United Kingdom</td>\n",
       "      <td>United Kingdom</td>\n",
       "      <td>2010-12-01</td>\n",
       "      <td>08:26:00</td>\n",
       "    </tr>\n",
       "    <tr>\n",
       "      <th>3</th>\n",
       "      <td>536365</td>\n",
       "      <td>84029G</td>\n",
       "      <td>6</td>\n",
       "      <td>2010-12-01 08:26:00</td>\n",
       "      <td>3.39</td>\n",
       "      <td>17850.0</td>\n",
       "      <td>United Kingdom</td>\n",
       "      <td>United Kingdom</td>\n",
       "      <td>2010-12-01</td>\n",
       "      <td>08:26:00</td>\n",
       "    </tr>\n",
       "    <tr>\n",
       "      <th>4</th>\n",
       "      <td>536365</td>\n",
       "      <td>84029E</td>\n",
       "      <td>6</td>\n",
       "      <td>2010-12-01 08:26:00</td>\n",
       "      <td>3.39</td>\n",
       "      <td>17850.0</td>\n",
       "      <td>United Kingdom</td>\n",
       "      <td>United Kingdom</td>\n",
       "      <td>2010-12-01</td>\n",
       "      <td>08:26:00</td>\n",
       "    </tr>\n",
       "    <tr>\n",
       "      <th>...</th>\n",
       "      <td>...</td>\n",
       "      <td>...</td>\n",
       "      <td>...</td>\n",
       "      <td>...</td>\n",
       "      <td>...</td>\n",
       "      <td>...</td>\n",
       "      <td>...</td>\n",
       "      <td>...</td>\n",
       "      <td>...</td>\n",
       "      <td>...</td>\n",
       "    </tr>\n",
       "    <tr>\n",
       "      <th>202</th>\n",
       "      <td>536389</td>\n",
       "      <td>85014B</td>\n",
       "      <td>6</td>\n",
       "      <td>2010-12-01 10:03:00</td>\n",
       "      <td>5.95</td>\n",
       "      <td>12431.0</td>\n",
       "      <td>Australia</td>\n",
       "      <td>Rest</td>\n",
       "      <td>2010-12-01</td>\n",
       "      <td>10:03:00</td>\n",
       "    </tr>\n",
       "    <tr>\n",
       "      <th>203</th>\n",
       "      <td>536389</td>\n",
       "      <td>85014A</td>\n",
       "      <td>3</td>\n",
       "      <td>2010-12-01 10:03:00</td>\n",
       "      <td>5.95</td>\n",
       "      <td>12431.0</td>\n",
       "      <td>Australia</td>\n",
       "      <td>Rest</td>\n",
       "      <td>2010-12-01</td>\n",
       "      <td>10:03:00</td>\n",
       "    </tr>\n",
       "    <tr>\n",
       "      <th>204</th>\n",
       "      <td>536389</td>\n",
       "      <td>22193</td>\n",
       "      <td>2</td>\n",
       "      <td>2010-12-01 10:03:00</td>\n",
       "      <td>8.50</td>\n",
       "      <td>12431.0</td>\n",
       "      <td>Australia</td>\n",
       "      <td>Rest</td>\n",
       "      <td>2010-12-01</td>\n",
       "      <td>10:03:00</td>\n",
       "    </tr>\n",
       "    <tr>\n",
       "      <th>205</th>\n",
       "      <td>536389</td>\n",
       "      <td>22726</td>\n",
       "      <td>4</td>\n",
       "      <td>2010-12-01 10:03:00</td>\n",
       "      <td>3.75</td>\n",
       "      <td>12431.0</td>\n",
       "      <td>Australia</td>\n",
       "      <td>Rest</td>\n",
       "      <td>2010-12-01</td>\n",
       "      <td>10:03:00</td>\n",
       "    </tr>\n",
       "    <tr>\n",
       "      <th>206</th>\n",
       "      <td>536389</td>\n",
       "      <td>22727</td>\n",
       "      <td>4</td>\n",
       "      <td>2010-12-01 10:03:00</td>\n",
       "      <td>3.75</td>\n",
       "      <td>12431.0</td>\n",
       "      <td>Australia</td>\n",
       "      <td>Rest</td>\n",
       "      <td>2010-12-01</td>\n",
       "      <td>10:03:00</td>\n",
       "    </tr>\n",
       "  </tbody>\n",
       "</table>\n",
       "<p>200 rows × 10 columns</p>\n",
       "</div>"
      ],
      "text/plain": [
       "    InvoiceNo StockCode  Quantity         InvoiceDate  UnitPrice  CustomerID  \\\n",
       "0      536365    85123A         6 2010-12-01 08:26:00       2.55     17850.0   \n",
       "1      536365     71053         6 2010-12-01 08:26:00       3.39     17850.0   \n",
       "2      536365    84406B         8 2010-12-01 08:26:00       2.75     17850.0   \n",
       "3      536365    84029G         6 2010-12-01 08:26:00       3.39     17850.0   \n",
       "4      536365    84029E         6 2010-12-01 08:26:00       3.39     17850.0   \n",
       "..        ...       ...       ...                 ...        ...         ...   \n",
       "202    536389    85014B         6 2010-12-01 10:03:00       5.95     12431.0   \n",
       "203    536389    85014A         3 2010-12-01 10:03:00       5.95     12431.0   \n",
       "204    536389     22193         2 2010-12-01 10:03:00       8.50     12431.0   \n",
       "205    536389     22726         4 2010-12-01 10:03:00       3.75     12431.0   \n",
       "206    536389     22727         4 2010-12-01 10:03:00       3.75     12431.0   \n",
       "\n",
       "            Country      newCountry InvoiceDates InvoiceTime  \n",
       "0    United Kingdom  United Kingdom   2010-12-01    08:26:00  \n",
       "1    United Kingdom  United Kingdom   2010-12-01    08:26:00  \n",
       "2    United Kingdom  United Kingdom   2010-12-01    08:26:00  \n",
       "3    United Kingdom  United Kingdom   2010-12-01    08:26:00  \n",
       "4    United Kingdom  United Kingdom   2010-12-01    08:26:00  \n",
       "..              ...             ...          ...         ...  \n",
       "202       Australia            Rest   2010-12-01    10:03:00  \n",
       "203       Australia            Rest   2010-12-01    10:03:00  \n",
       "204       Australia            Rest   2010-12-01    10:03:00  \n",
       "205       Australia            Rest   2010-12-01    10:03:00  \n",
       "206       Australia            Rest   2010-12-01    10:03:00  \n",
       "\n",
       "[200 rows x 10 columns]"
      ]
     },
     "execution_count": 29,
     "metadata": {},
     "output_type": "execute_result"
    }
   ],
   "source": [
    "data.head(200)"
   ]
  },
  {
   "cell_type": "code",
   "execution_count": 30,
   "metadata": {},
   "outputs": [
    {
     "name": "stdout",
     "output_type": "stream",
     "text": [
      "Max invoice date is 2011-12-09, min invoice date is 2010-12-01.\n"
     ]
    }
   ],
   "source": [
    "print(\"Max invoice date is {}, min invoice date is {}.\".format(data['InvoiceDates'].max(), data['InvoiceDates'].min()))"
   ]
  },
  {
   "cell_type": "code",
   "execution_count": 31,
   "metadata": {},
   "outputs": [],
   "source": [
    "data = data[(data['InvoiceDate'] >= '2010-12-01') & (data['InvoiceDate'] < '2011-12-01')]"
   ]
  },
  {
   "cell_type": "code",
   "execution_count": 32,
   "metadata": {},
   "outputs": [
    {
     "name": "stdout",
     "output_type": "stream",
     "text": [
      "Max invoice date is 2011-11-30, min invoice date is 2010-12-01.\n"
     ]
    }
   ],
   "source": [
    "print(\"Max invoice date is {}, min invoice date is {}.\".format(data['InvoiceDates'].max(), data['InvoiceDates'].min()))"
   ]
  },
  {
   "cell_type": "code",
   "execution_count": 33,
   "metadata": {},
   "outputs": [
    {
     "data": {
      "text/html": [
       "<div>\n",
       "<style scoped>\n",
       "    .dataframe tbody tr th:only-of-type {\n",
       "        vertical-align: middle;\n",
       "    }\n",
       "\n",
       "    .dataframe tbody tr th {\n",
       "        vertical-align: top;\n",
       "    }\n",
       "\n",
       "    .dataframe thead th {\n",
       "        text-align: right;\n",
       "    }\n",
       "</style>\n",
       "<table border=\"1\" class=\"dataframe\">\n",
       "  <thead>\n",
       "    <tr style=\"text-align: right;\">\n",
       "      <th></th>\n",
       "      <th>InvoiceNo</th>\n",
       "      <th>StockCode</th>\n",
       "      <th>Quantity</th>\n",
       "      <th>InvoiceDate</th>\n",
       "      <th>UnitPrice</th>\n",
       "      <th>CustomerID</th>\n",
       "      <th>Country</th>\n",
       "      <th>newCountry</th>\n",
       "      <th>InvoiceDates</th>\n",
       "      <th>InvoiceTime</th>\n",
       "      <th>purchaseMonth</th>\n",
       "    </tr>\n",
       "  </thead>\n",
       "  <tbody>\n",
       "    <tr>\n",
       "      <th>0</th>\n",
       "      <td>536365</td>\n",
       "      <td>85123A</td>\n",
       "      <td>6</td>\n",
       "      <td>2010-12-01 08:26:00</td>\n",
       "      <td>2.55</td>\n",
       "      <td>17850.0</td>\n",
       "      <td>United Kingdom</td>\n",
       "      <td>United Kingdom</td>\n",
       "      <td>2010-12-01</td>\n",
       "      <td>08:26:00</td>\n",
       "      <td>2010-12-01</td>\n",
       "    </tr>\n",
       "    <tr>\n",
       "      <th>1</th>\n",
       "      <td>536365</td>\n",
       "      <td>71053</td>\n",
       "      <td>6</td>\n",
       "      <td>2010-12-01 08:26:00</td>\n",
       "      <td>3.39</td>\n",
       "      <td>17850.0</td>\n",
       "      <td>United Kingdom</td>\n",
       "      <td>United Kingdom</td>\n",
       "      <td>2010-12-01</td>\n",
       "      <td>08:26:00</td>\n",
       "      <td>2010-12-01</td>\n",
       "    </tr>\n",
       "    <tr>\n",
       "      <th>2</th>\n",
       "      <td>536365</td>\n",
       "      <td>84406B</td>\n",
       "      <td>8</td>\n",
       "      <td>2010-12-01 08:26:00</td>\n",
       "      <td>2.75</td>\n",
       "      <td>17850.0</td>\n",
       "      <td>United Kingdom</td>\n",
       "      <td>United Kingdom</td>\n",
       "      <td>2010-12-01</td>\n",
       "      <td>08:26:00</td>\n",
       "      <td>2010-12-01</td>\n",
       "    </tr>\n",
       "    <tr>\n",
       "      <th>3</th>\n",
       "      <td>536365</td>\n",
       "      <td>84029G</td>\n",
       "      <td>6</td>\n",
       "      <td>2010-12-01 08:26:00</td>\n",
       "      <td>3.39</td>\n",
       "      <td>17850.0</td>\n",
       "      <td>United Kingdom</td>\n",
       "      <td>United Kingdom</td>\n",
       "      <td>2010-12-01</td>\n",
       "      <td>08:26:00</td>\n",
       "      <td>2010-12-01</td>\n",
       "    </tr>\n",
       "    <tr>\n",
       "      <th>4</th>\n",
       "      <td>536365</td>\n",
       "      <td>84029E</td>\n",
       "      <td>6</td>\n",
       "      <td>2010-12-01 08:26:00</td>\n",
       "      <td>3.39</td>\n",
       "      <td>17850.0</td>\n",
       "      <td>United Kingdom</td>\n",
       "      <td>United Kingdom</td>\n",
       "      <td>2010-12-01</td>\n",
       "      <td>08:26:00</td>\n",
       "      <td>2010-12-01</td>\n",
       "    </tr>\n",
       "  </tbody>\n",
       "</table>\n",
       "</div>"
      ],
      "text/plain": [
       "  InvoiceNo StockCode  Quantity         InvoiceDate  UnitPrice  CustomerID  \\\n",
       "0    536365    85123A         6 2010-12-01 08:26:00       2.55     17850.0   \n",
       "1    536365     71053         6 2010-12-01 08:26:00       3.39     17850.0   \n",
       "2    536365    84406B         8 2010-12-01 08:26:00       2.75     17850.0   \n",
       "3    536365    84029G         6 2010-12-01 08:26:00       3.39     17850.0   \n",
       "4    536365    84029E         6 2010-12-01 08:26:00       3.39     17850.0   \n",
       "\n",
       "          Country      newCountry InvoiceDates InvoiceTime purchaseMonth  \n",
       "0  United Kingdom  United Kingdom   2010-12-01    08:26:00    2010-12-01  \n",
       "1  United Kingdom  United Kingdom   2010-12-01    08:26:00    2010-12-01  \n",
       "2  United Kingdom  United Kingdom   2010-12-01    08:26:00    2010-12-01  \n",
       "3  United Kingdom  United Kingdom   2010-12-01    08:26:00    2010-12-01  \n",
       "4  United Kingdom  United Kingdom   2010-12-01    08:26:00    2010-12-01  "
      ]
     },
     "execution_count": 33,
     "metadata": {},
     "output_type": "execute_result"
    }
   ],
   "source": [
    "data['purchaseMonth'] = data['InvoiceDates'].values.astype('datetime64[M]')\n",
    "data.head()"
   ]
  },
  {
   "cell_type": "code",
   "execution_count": 34,
   "metadata": {},
   "outputs": [],
   "source": [
    "data_summ = pd.DataFrame(data.groupby('purchaseMonth').agg({'InvoiceNo':'count',\n",
    "                                'CustomerID':'nunique',\n",
    "                                'Quantity':['sum', 'mean', 'min', 'max'],\n",
    "                                'UnitPrice':['sum', 'mean', 'min', 'max']}))"
   ]
  },
  {
   "cell_type": "code",
   "execution_count": 35,
   "metadata": {},
   "outputs": [
    {
     "data": {
      "text/plain": [
       "MultiIndex([( 'InvoiceNo',   'count'),\n",
       "            ('CustomerID', 'nunique'),\n",
       "            (  'Quantity',     'sum'),\n",
       "            (  'Quantity',    'mean'),\n",
       "            (  'Quantity',     'min'),\n",
       "            (  'Quantity',     'max'),\n",
       "            ( 'UnitPrice',     'sum'),\n",
       "            ( 'UnitPrice',    'mean'),\n",
       "            ( 'UnitPrice',     'min'),\n",
       "            ( 'UnitPrice',     'max')],\n",
       "           )"
      ]
     },
     "execution_count": 35,
     "metadata": {},
     "output_type": "execute_result"
    }
   ],
   "source": [
    "data_summ.columns"
   ]
  },
  {
   "cell_type": "code",
   "execution_count": 36,
   "metadata": {},
   "outputs": [],
   "source": [
    "names = []\n",
    "for i in data_summ.columns:\n",
    "    name = i[0] + ' ' + i[1]\n",
    "    names.append(name)\n",
    "\n",
    "data_summ.columns = names"
   ]
  },
  {
   "cell_type": "code",
   "execution_count": 37,
   "metadata": {},
   "outputs": [
    {
     "data": {
      "text/html": [
       "<div>\n",
       "<style scoped>\n",
       "    .dataframe tbody tr th:only-of-type {\n",
       "        vertical-align: middle;\n",
       "    }\n",
       "\n",
       "    .dataframe tbody tr th {\n",
       "        vertical-align: top;\n",
       "    }\n",
       "\n",
       "    .dataframe thead th {\n",
       "        text-align: right;\n",
       "    }\n",
       "</style>\n",
       "<table border=\"1\" class=\"dataframe\">\n",
       "  <thead>\n",
       "    <tr style=\"text-align: right;\">\n",
       "      <th></th>\n",
       "      <th>InvoiceNo count</th>\n",
       "      <th>CustomerID nunique</th>\n",
       "      <th>Quantity sum</th>\n",
       "      <th>Quantity mean</th>\n",
       "      <th>Quantity min</th>\n",
       "      <th>Quantity max</th>\n",
       "      <th>UnitPrice sum</th>\n",
       "      <th>UnitPrice mean</th>\n",
       "      <th>UnitPrice min</th>\n",
       "      <th>UnitPrice max</th>\n",
       "    </tr>\n",
       "    <tr>\n",
       "      <th>purchaseMonth</th>\n",
       "      <th></th>\n",
       "      <th></th>\n",
       "      <th></th>\n",
       "      <th></th>\n",
       "      <th></th>\n",
       "      <th></th>\n",
       "      <th></th>\n",
       "      <th></th>\n",
       "      <th></th>\n",
       "      <th></th>\n",
       "    </tr>\n",
       "  </thead>\n",
       "  <tbody>\n",
       "    <tr>\n",
       "      <th>2010-12-01</th>\n",
       "      <td>25917</td>\n",
       "      <td>870</td>\n",
       "      <td>237778</td>\n",
       "      <td>9.17460</td>\n",
       "      <td>1</td>\n",
       "      <td>120</td>\n",
       "      <td>81603.850</td>\n",
       "      <td>3.14866</td>\n",
       "      <td>0.00</td>\n",
       "      <td>295.00</td>\n",
       "    </tr>\n",
       "    <tr>\n",
       "      <th>2011-01-01</th>\n",
       "      <td>21034</td>\n",
       "      <td>733</td>\n",
       "      <td>215835</td>\n",
       "      <td>10.26124</td>\n",
       "      <td>1</td>\n",
       "      <td>120</td>\n",
       "      <td>66683.760</td>\n",
       "      <td>3.17028</td>\n",
       "      <td>0.00</td>\n",
       "      <td>295.00</td>\n",
       "    </tr>\n",
       "    <tr>\n",
       "      <th>2011-02-01</th>\n",
       "      <td>19716</td>\n",
       "      <td>745</td>\n",
       "      <td>197658</td>\n",
       "      <td>10.02526</td>\n",
       "      <td>1</td>\n",
       "      <td>120</td>\n",
       "      <td>62943.770</td>\n",
       "      <td>3.19252</td>\n",
       "      <td>0.00</td>\n",
       "      <td>320.69</td>\n",
       "    </tr>\n",
       "    <tr>\n",
       "      <th>2011-03-01</th>\n",
       "      <td>26880</td>\n",
       "      <td>964</td>\n",
       "      <td>263668</td>\n",
       "      <td>9.80908</td>\n",
       "      <td>1</td>\n",
       "      <td>120</td>\n",
       "      <td>88179.730</td>\n",
       "      <td>3.28050</td>\n",
       "      <td>0.00</td>\n",
       "      <td>1687.17</td>\n",
       "    </tr>\n",
       "    <tr>\n",
       "      <th>2011-04-01</th>\n",
       "      <td>22435</td>\n",
       "      <td>844</td>\n",
       "      <td>218379</td>\n",
       "      <td>9.73385</td>\n",
       "      <td>1</td>\n",
       "      <td>120</td>\n",
       "      <td>78800.741</td>\n",
       "      <td>3.51240</td>\n",
       "      <td>0.00</td>\n",
       "      <td>2382.92</td>\n",
       "    </tr>\n",
       "    <tr>\n",
       "      <th>2011-05-01</th>\n",
       "      <td>28031</td>\n",
       "      <td>1042</td>\n",
       "      <td>290221</td>\n",
       "      <td>10.35357</td>\n",
       "      <td>1</td>\n",
       "      <td>120</td>\n",
       "      <td>93622.920</td>\n",
       "      <td>3.33998</td>\n",
       "      <td>0.00</td>\n",
       "      <td>1241.98</td>\n",
       "    </tr>\n",
       "    <tr>\n",
       "      <th>2011-06-01</th>\n",
       "      <td>26877</td>\n",
       "      <td>983</td>\n",
       "      <td>278519</td>\n",
       "      <td>10.36273</td>\n",
       "      <td>1</td>\n",
       "      <td>120</td>\n",
       "      <td>84811.370</td>\n",
       "      <td>3.15554</td>\n",
       "      <td>0.04</td>\n",
       "      <td>700.00</td>\n",
       "    </tr>\n",
       "    <tr>\n",
       "      <th>2011-07-01</th>\n",
       "      <td>26512</td>\n",
       "      <td>940</td>\n",
       "      <td>283916</td>\n",
       "      <td>10.70896</td>\n",
       "      <td>1</td>\n",
       "      <td>120</td>\n",
       "      <td>75469.871</td>\n",
       "      <td>2.84663</td>\n",
       "      <td>0.00</td>\n",
       "      <td>550.94</td>\n",
       "    </tr>\n",
       "    <tr>\n",
       "      <th>2011-08-01</th>\n",
       "      <td>26640</td>\n",
       "      <td>921</td>\n",
       "      <td>293210</td>\n",
       "      <td>11.00638</td>\n",
       "      <td>1</td>\n",
       "      <td>120</td>\n",
       "      <td>78930.130</td>\n",
       "      <td>2.96284</td>\n",
       "      <td>0.00</td>\n",
       "      <td>2500.00</td>\n",
       "    </tr>\n",
       "    <tr>\n",
       "      <th>2011-09-01</th>\n",
       "      <td>39639</td>\n",
       "      <td>1254</td>\n",
       "      <td>429457</td>\n",
       "      <td>10.83420</td>\n",
       "      <td>1</td>\n",
       "      <td>120</td>\n",
       "      <td>118467.152</td>\n",
       "      <td>2.98865</td>\n",
       "      <td>0.00</td>\n",
       "      <td>2033.10</td>\n",
       "    </tr>\n",
       "    <tr>\n",
       "      <th>2011-10-01</th>\n",
       "      <td>49082</td>\n",
       "      <td>1355</td>\n",
       "      <td>454043</td>\n",
       "      <td>9.25070</td>\n",
       "      <td>1</td>\n",
       "      <td>120</td>\n",
       "      <td>149736.680</td>\n",
       "      <td>3.05075</td>\n",
       "      <td>0.00</td>\n",
       "      <td>2118.74</td>\n",
       "    </tr>\n",
       "    <tr>\n",
       "      <th>2011-11-01</th>\n",
       "      <td>64112</td>\n",
       "      <td>1650</td>\n",
       "      <td>552914</td>\n",
       "      <td>8.62419</td>\n",
       "      <td>1</td>\n",
       "      <td>120</td>\n",
       "      <td>184963.030</td>\n",
       "      <td>2.88500</td>\n",
       "      <td>0.00</td>\n",
       "      <td>1526.76</td>\n",
       "    </tr>\n",
       "  </tbody>\n",
       "</table>\n",
       "</div>"
      ],
      "text/plain": [
       "               InvoiceNo count  CustomerID nunique  Quantity sum  \\\n",
       "purchaseMonth                                                      \n",
       "2010-12-01               25917                 870        237778   \n",
       "2011-01-01               21034                 733        215835   \n",
       "2011-02-01               19716                 745        197658   \n",
       "2011-03-01               26880                 964        263668   \n",
       "2011-04-01               22435                 844        218379   \n",
       "2011-05-01               28031                1042        290221   \n",
       "2011-06-01               26877                 983        278519   \n",
       "2011-07-01               26512                 940        283916   \n",
       "2011-08-01               26640                 921        293210   \n",
       "2011-09-01               39639                1254        429457   \n",
       "2011-10-01               49082                1355        454043   \n",
       "2011-11-01               64112                1650        552914   \n",
       "\n",
       "               Quantity mean  Quantity min  Quantity max  UnitPrice sum  \\\n",
       "purchaseMonth                                                             \n",
       "2010-12-01           9.17460             1           120      81603.850   \n",
       "2011-01-01          10.26124             1           120      66683.760   \n",
       "2011-02-01          10.02526             1           120      62943.770   \n",
       "2011-03-01           9.80908             1           120      88179.730   \n",
       "2011-04-01           9.73385             1           120      78800.741   \n",
       "2011-05-01          10.35357             1           120      93622.920   \n",
       "2011-06-01          10.36273             1           120      84811.370   \n",
       "2011-07-01          10.70896             1           120      75469.871   \n",
       "2011-08-01          11.00638             1           120      78930.130   \n",
       "2011-09-01          10.83420             1           120     118467.152   \n",
       "2011-10-01           9.25070             1           120     149736.680   \n",
       "2011-11-01           8.62419             1           120     184963.030   \n",
       "\n",
       "               UnitPrice mean  UnitPrice min  UnitPrice max  \n",
       "purchaseMonth                                                \n",
       "2010-12-01            3.14866           0.00         295.00  \n",
       "2011-01-01            3.17028           0.00         295.00  \n",
       "2011-02-01            3.19252           0.00         320.69  \n",
       "2011-03-01            3.28050           0.00        1687.17  \n",
       "2011-04-01            3.51240           0.00        2382.92  \n",
       "2011-05-01            3.33998           0.00        1241.98  \n",
       "2011-06-01            3.15554           0.04         700.00  \n",
       "2011-07-01            2.84663           0.00         550.94  \n",
       "2011-08-01            2.96284           0.00        2500.00  \n",
       "2011-09-01            2.98865           0.00        2033.10  \n",
       "2011-10-01            3.05075           0.00        2118.74  \n",
       "2011-11-01            2.88500           0.00        1526.76  "
      ]
     },
     "execution_count": 37,
     "metadata": {},
     "output_type": "execute_result"
    }
   ],
   "source": [
    "data_summ"
   ]
  },
  {
   "cell_type": "code",
   "execution_count": 38,
   "metadata": {},
   "outputs": [
    {
     "data": {
      "text/plain": [
       "<AxesSubplot:title={'center':'Quantity Sum, UnitPrice Sum & InvoiceNo count'}, xlabel='purchaseMonth'>"
      ]
     },
     "execution_count": 38,
     "metadata": {},
     "output_type": "execute_result"
    },
    {
     "data": {
      "image/png": "[encoded data removed]",
      "text/plain": [
       "<Figure size 1080x432 with 1 Axes>"
      ]
     },
     "metadata": {
      "needs_background": "light"
     },
     "output_type": "display_data"
    }
   ],
   "source": [
    "plt.figure(figsize=(15,6))\n",
    "plt.title('Quantity Sum, UnitPrice Sum & InvoiceNo count')\n",
    "sns.lineplot(data=data_summ[['InvoiceNo count', 'Quantity sum', 'UnitPrice sum']], markers=True, dashes=False)"
   ]
  },
  {
   "cell_type": "code",
   "execution_count": 39,
   "metadata": {},
   "outputs": [
    {
     "data": {
      "text/plain": [
       "<matplotlib.legend.Legend at 0x1f7ad707520>"
      ]
     },
     "execution_count": 39,
     "metadata": {},
     "output_type": "execute_result"
    },
    {
     "data": {
      "image/png": "[encoded data removed]",
      "text/plain": [
       "<Figure size 1296x504 with 1 Axes>"
      ]
     },
     "metadata": {
      "needs_background": "light"
     },
     "output_type": "display_data"
    }
   ],
   "source": [
    "import matplotlib.pyplot as plt\n",
    "import numpy as np\n",
    "import datetime as dt\n",
    "\n",
    "labels = pd.Series(data_summ.index).dt.strftime('%m/%d/%Y')\n",
    "quantity_means = data_summ['Quantity mean']\n",
    "unitprice_means = data_summ['UnitPrice mean']\n",
    "\n",
    "x = np.arange(len(labels))  # the label locations\n",
    "width = 0.35 # the width of the bars\n",
    "\n",
    "fig, ax = plt.subplots(figsize=(18,7))\n",
    "rects1 = ax.bar(x - width/2, quantity_means, width, label='Quantity')\n",
    "rects2 = ax.bar(x + width/2, unitprice_means, width, label='UnitPrice')\n",
    "\n",
    "# Add some text for labels, title and custom x-axis tick labels, etc.\n",
    "ax.set_ylabel('Mean')\n",
    "ax.set_title('Mean by purchase month')\n",
    "ax.set_xticks(x)\n",
    "ax.set_xticklabels(labels)\n",
    "ax.legend()"
   ]
  },
  {
   "cell_type": "code",
   "execution_count": 40,
   "metadata": {},
   "outputs": [
    {
     "data": {
      "text/html": [
       "<div>\n",
       "<style scoped>\n",
       "    .dataframe tbody tr th:only-of-type {\n",
       "        vertical-align: middle;\n",
       "    }\n",
       "\n",
       "    .dataframe tbody tr th {\n",
       "        vertical-align: top;\n",
       "    }\n",
       "\n",
       "    .dataframe thead th {\n",
       "        text-align: right;\n",
       "    }\n",
       "</style>\n",
       "<table border=\"1\" class=\"dataframe\">\n",
       "  <thead>\n",
       "    <tr style=\"text-align: right;\">\n",
       "      <th></th>\n",
       "      <th>InvoiceNo</th>\n",
       "      <th>StockCode</th>\n",
       "      <th>Quantity</th>\n",
       "      <th>InvoiceDate</th>\n",
       "      <th>UnitPrice</th>\n",
       "      <th>CustomerID</th>\n",
       "      <th>Country</th>\n",
       "      <th>newCountry</th>\n",
       "      <th>InvoiceDates</th>\n",
       "      <th>InvoiceTime</th>\n",
       "      <th>purchaseMonth</th>\n",
       "    </tr>\n",
       "  </thead>\n",
       "  <tbody>\n",
       "    <tr>\n",
       "      <th>0</th>\n",
       "      <td>536365</td>\n",
       "      <td>85123A</td>\n",
       "      <td>6</td>\n",
       "      <td>2010-12-01 08:26:00</td>\n",
       "      <td>2.55</td>\n",
       "      <td>17850.0</td>\n",
       "      <td>United Kingdom</td>\n",
       "      <td>United Kingdom</td>\n",
       "      <td>2010-12-01</td>\n",
       "      <td>08:26:00</td>\n",
       "      <td>2010-12-01</td>\n",
       "    </tr>\n",
       "    <tr>\n",
       "      <th>1</th>\n",
       "      <td>536365</td>\n",
       "      <td>71053</td>\n",
       "      <td>6</td>\n",
       "      <td>2010-12-01 08:26:00</td>\n",
       "      <td>3.39</td>\n",
       "      <td>17850.0</td>\n",
       "      <td>United Kingdom</td>\n",
       "      <td>United Kingdom</td>\n",
       "      <td>2010-12-01</td>\n",
       "      <td>08:26:00</td>\n",
       "      <td>2010-12-01</td>\n",
       "    </tr>\n",
       "    <tr>\n",
       "      <th>2</th>\n",
       "      <td>536365</td>\n",
       "      <td>84406B</td>\n",
       "      <td>8</td>\n",
       "      <td>2010-12-01 08:26:00</td>\n",
       "      <td>2.75</td>\n",
       "      <td>17850.0</td>\n",
       "      <td>United Kingdom</td>\n",
       "      <td>United Kingdom</td>\n",
       "      <td>2010-12-01</td>\n",
       "      <td>08:26:00</td>\n",
       "      <td>2010-12-01</td>\n",
       "    </tr>\n",
       "    <tr>\n",
       "      <th>3</th>\n",
       "      <td>536365</td>\n",
       "      <td>84029G</td>\n",
       "      <td>6</td>\n",
       "      <td>2010-12-01 08:26:00</td>\n",
       "      <td>3.39</td>\n",
       "      <td>17850.0</td>\n",
       "      <td>United Kingdom</td>\n",
       "      <td>United Kingdom</td>\n",
       "      <td>2010-12-01</td>\n",
       "      <td>08:26:00</td>\n",
       "      <td>2010-12-01</td>\n",
       "    </tr>\n",
       "    <tr>\n",
       "      <th>4</th>\n",
       "      <td>536365</td>\n",
       "      <td>84029E</td>\n",
       "      <td>6</td>\n",
       "      <td>2010-12-01 08:26:00</td>\n",
       "      <td>3.39</td>\n",
       "      <td>17850.0</td>\n",
       "      <td>United Kingdom</td>\n",
       "      <td>United Kingdom</td>\n",
       "      <td>2010-12-01</td>\n",
       "      <td>08:26:00</td>\n",
       "      <td>2010-12-01</td>\n",
       "    </tr>\n",
       "  </tbody>\n",
       "</table>\n",
       "</div>"
      ],
      "text/plain": [
       "  InvoiceNo StockCode  Quantity         InvoiceDate  UnitPrice  CustomerID  \\\n",
       "0    536365    85123A         6 2010-12-01 08:26:00       2.55     17850.0   \n",
       "1    536365     71053         6 2010-12-01 08:26:00       3.39     17850.0   \n",
       "2    536365    84406B         8 2010-12-01 08:26:00       2.75     17850.0   \n",
       "3    536365    84029G         6 2010-12-01 08:26:00       3.39     17850.0   \n",
       "4    536365    84029E         6 2010-12-01 08:26:00       3.39     17850.0   \n",
       "\n",
       "          Country      newCountry InvoiceDates InvoiceTime purchaseMonth  \n",
       "0  United Kingdom  United Kingdom   2010-12-01    08:26:00    2010-12-01  \n",
       "1  United Kingdom  United Kingdom   2010-12-01    08:26:00    2010-12-01  \n",
       "2  United Kingdom  United Kingdom   2010-12-01    08:26:00    2010-12-01  \n",
       "3  United Kingdom  United Kingdom   2010-12-01    08:26:00    2010-12-01  \n",
       "4  United Kingdom  United Kingdom   2010-12-01    08:26:00    2010-12-01  "
      ]
     },
     "execution_count": 40,
     "metadata": {},
     "output_type": "execute_result"
    }
   ],
   "source": [
    "data.head()"
   ]
  },
  {
   "cell_type": "code",
   "execution_count": 41,
   "metadata": {},
   "outputs": [
    {
     "data": {
      "text/plain": [
       "4264"
      ]
     },
     "execution_count": 41,
     "metadata": {},
     "output_type": "execute_result"
    }
   ],
   "source": [
    "# number of distinct customers\n",
    "data['CustomerID'].nunique()"
   ]
  },
  {
   "cell_type": "code",
   "execution_count": 42,
   "metadata": {},
   "outputs": [],
   "source": [
    "customer = pd.DataFrame(data.groupby('CustomerID').agg({'InvoiceNo':'count',\n",
    "                                'InvoiceDates':['min', 'max'],\n",
    "                                'Quantity':['min', 'max', 'sum', 'mean', 'median'],\n",
    "                                'UnitPrice':['min', 'max', 'mean', 'median']}))\n",
    "customer.reset_index(level=0, inplace=True)"
   ]
  },
  {
   "cell_type": "code",
   "execution_count": 43,
   "metadata": {},
   "outputs": [
    {
     "data": {
      "text/html": [
       "<div>\n",
       "<style scoped>\n",
       "    .dataframe tbody tr th:only-of-type {\n",
       "        vertical-align: middle;\n",
       "    }\n",
       "\n",
       "    .dataframe tbody tr th {\n",
       "        vertical-align: top;\n",
       "    }\n",
       "\n",
       "    .dataframe thead tr th {\n",
       "        text-align: left;\n",
       "    }\n",
       "</style>\n",
       "<table border=\"1\" class=\"dataframe\">\n",
       "  <thead>\n",
       "    <tr>\n",
       "      <th></th>\n",
       "      <th>CustomerID</th>\n",
       "      <th>InvoiceNo</th>\n",
       "      <th colspan=\"2\" halign=\"left\">InvoiceDates</th>\n",
       "      <th colspan=\"5\" halign=\"left\">Quantity</th>\n",
       "      <th colspan=\"4\" halign=\"left\">UnitPrice</th>\n",
       "    </tr>\n",
       "    <tr>\n",
       "      <th></th>\n",
       "      <th></th>\n",
       "      <th>count</th>\n",
       "      <th>min</th>\n",
       "      <th>max</th>\n",
       "      <th>min</th>\n",
       "      <th>max</th>\n",
       "      <th>sum</th>\n",
       "      <th>mean</th>\n",
       "      <th>median</th>\n",
       "      <th>min</th>\n",
       "      <th>max</th>\n",
       "      <th>mean</th>\n",
       "      <th>median</th>\n",
       "    </tr>\n",
       "  </thead>\n",
       "  <tbody>\n",
       "    <tr>\n",
       "      <th>0</th>\n",
       "      <td>12347.0</td>\n",
       "      <td>170</td>\n",
       "      <td>2010-12-07</td>\n",
       "      <td>2011-10-31</td>\n",
       "      <td>2</td>\n",
       "      <td>48</td>\n",
       "      <td>2026</td>\n",
       "      <td>11.91765</td>\n",
       "      <td>12.0</td>\n",
       "      <td>0.25</td>\n",
       "      <td>12.75</td>\n",
       "      <td>2.74488</td>\n",
       "      <td>2.10</td>\n",
       "    </tr>\n",
       "    <tr>\n",
       "      <th>1</th>\n",
       "      <td>12348.0</td>\n",
       "      <td>25</td>\n",
       "      <td>2010-12-16</td>\n",
       "      <td>2011-09-25</td>\n",
       "      <td>1</td>\n",
       "      <td>120</td>\n",
       "      <td>1477</td>\n",
       "      <td>59.08000</td>\n",
       "      <td>72.0</td>\n",
       "      <td>0.29</td>\n",
       "      <td>40.00</td>\n",
       "      <td>7.07880</td>\n",
       "      <td>0.85</td>\n",
       "    </tr>\n",
       "    <tr>\n",
       "      <th>2</th>\n",
       "      <td>12349.0</td>\n",
       "      <td>73</td>\n",
       "      <td>2011-11-21</td>\n",
       "      <td>2011-11-21</td>\n",
       "      <td>1</td>\n",
       "      <td>36</td>\n",
       "      <td>631</td>\n",
       "      <td>8.64384</td>\n",
       "      <td>6.0</td>\n",
       "      <td>0.42</td>\n",
       "      <td>300.00</td>\n",
       "      <td>8.28904</td>\n",
       "      <td>2.55</td>\n",
       "    </tr>\n",
       "    <tr>\n",
       "      <th>3</th>\n",
       "      <td>12350.0</td>\n",
       "      <td>17</td>\n",
       "      <td>2011-02-02</td>\n",
       "      <td>2011-02-02</td>\n",
       "      <td>1</td>\n",
       "      <td>24</td>\n",
       "      <td>197</td>\n",
       "      <td>11.58824</td>\n",
       "      <td>12.0</td>\n",
       "      <td>0.85</td>\n",
       "      <td>40.00</td>\n",
       "      <td>3.84118</td>\n",
       "      <td>1.65</td>\n",
       "    </tr>\n",
       "    <tr>\n",
       "      <th>4</th>\n",
       "      <td>12352.0</td>\n",
       "      <td>85</td>\n",
       "      <td>2011-02-16</td>\n",
       "      <td>2011-11-03</td>\n",
       "      <td>1</td>\n",
       "      <td>16</td>\n",
       "      <td>536</td>\n",
       "      <td>6.30588</td>\n",
       "      <td>4.0</td>\n",
       "      <td>0.65</td>\n",
       "      <td>376.50</td>\n",
       "      <td>15.93071</td>\n",
       "      <td>4.25</td>\n",
       "    </tr>\n",
       "  </tbody>\n",
       "</table>\n",
       "</div>"
      ],
      "text/plain": [
       "  CustomerID InvoiceNo InvoiceDates             Quantity                       \\\n",
       "                 count          min         max      min  max   sum      mean   \n",
       "0    12347.0       170   2010-12-07  2011-10-31        2   48  2026  11.91765   \n",
       "1    12348.0        25   2010-12-16  2011-09-25        1  120  1477  59.08000   \n",
       "2    12349.0        73   2011-11-21  2011-11-21        1   36   631   8.64384   \n",
       "3    12350.0        17   2011-02-02  2011-02-02        1   24   197  11.58824   \n",
       "4    12352.0        85   2011-02-16  2011-11-03        1   16   536   6.30588   \n",
       "\n",
       "         UnitPrice                           \n",
       "  median       min     max      mean median  \n",
       "0   12.0      0.25   12.75   2.74488   2.10  \n",
       "1   72.0      0.29   40.00   7.07880   0.85  \n",
       "2    6.0      0.42  300.00   8.28904   2.55  \n",
       "3   12.0      0.85   40.00   3.84118   1.65  \n",
       "4    4.0      0.65  376.50  15.93071   4.25  "
      ]
     },
     "execution_count": 43,
     "metadata": {},
     "output_type": "execute_result"
    }
   ],
   "source": [
    "customer.head()"
   ]
  },
  {
   "cell_type": "code",
   "execution_count": 44,
   "metadata": {},
   "outputs": [],
   "source": [
    "names = []\n",
    "for i in customer.columns:\n",
    "    name = i[0] + ' ' + i[1]\n",
    "    names.append(name)\n",
    "\n",
    "customer.columns = names"
   ]
  },
  {
   "cell_type": "code",
   "execution_count": 45,
   "metadata": {},
   "outputs": [
    {
     "data": {
      "text/html": [
       "<div>\n",
       "<style scoped>\n",
       "    .dataframe tbody tr th:only-of-type {\n",
       "        vertical-align: middle;\n",
       "    }\n",
       "\n",
       "    .dataframe tbody tr th {\n",
       "        vertical-align: top;\n",
       "    }\n",
       "\n",
       "    .dataframe thead th {\n",
       "        text-align: right;\n",
       "    }\n",
       "</style>\n",
       "<table border=\"1\" class=\"dataframe\">\n",
       "  <thead>\n",
       "    <tr style=\"text-align: right;\">\n",
       "      <th></th>\n",
       "      <th>CustomerID</th>\n",
       "      <th>InvoiceNo count</th>\n",
       "      <th>InvoiceDates min</th>\n",
       "      <th>InvoiceDates max</th>\n",
       "      <th>Quantity min</th>\n",
       "      <th>Quantity max</th>\n",
       "      <th>Quantity sum</th>\n",
       "      <th>Quantity mean</th>\n",
       "      <th>Quantity median</th>\n",
       "      <th>UnitPrice min</th>\n",
       "      <th>UnitPrice max</th>\n",
       "      <th>UnitPrice mean</th>\n",
       "      <th>UnitPrice median</th>\n",
       "    </tr>\n",
       "  </thead>\n",
       "  <tbody>\n",
       "    <tr>\n",
       "      <th>0</th>\n",
       "      <td>12347.0</td>\n",
       "      <td>170</td>\n",
       "      <td>2010-12-07</td>\n",
       "      <td>2011-10-31</td>\n",
       "      <td>2</td>\n",
       "      <td>48</td>\n",
       "      <td>2026</td>\n",
       "      <td>11.91765</td>\n",
       "      <td>12.0</td>\n",
       "      <td>0.25</td>\n",
       "      <td>12.75</td>\n",
       "      <td>2.74488</td>\n",
       "      <td>2.10</td>\n",
       "    </tr>\n",
       "    <tr>\n",
       "      <th>1</th>\n",
       "      <td>12348.0</td>\n",
       "      <td>25</td>\n",
       "      <td>2010-12-16</td>\n",
       "      <td>2011-09-25</td>\n",
       "      <td>1</td>\n",
       "      <td>120</td>\n",
       "      <td>1477</td>\n",
       "      <td>59.08000</td>\n",
       "      <td>72.0</td>\n",
       "      <td>0.29</td>\n",
       "      <td>40.00</td>\n",
       "      <td>7.07880</td>\n",
       "      <td>0.85</td>\n",
       "    </tr>\n",
       "    <tr>\n",
       "      <th>2</th>\n",
       "      <td>12349.0</td>\n",
       "      <td>73</td>\n",
       "      <td>2011-11-21</td>\n",
       "      <td>2011-11-21</td>\n",
       "      <td>1</td>\n",
       "      <td>36</td>\n",
       "      <td>631</td>\n",
       "      <td>8.64384</td>\n",
       "      <td>6.0</td>\n",
       "      <td>0.42</td>\n",
       "      <td>300.00</td>\n",
       "      <td>8.28904</td>\n",
       "      <td>2.55</td>\n",
       "    </tr>\n",
       "    <tr>\n",
       "      <th>3</th>\n",
       "      <td>12350.0</td>\n",
       "      <td>17</td>\n",
       "      <td>2011-02-02</td>\n",
       "      <td>2011-02-02</td>\n",
       "      <td>1</td>\n",
       "      <td>24</td>\n",
       "      <td>197</td>\n",
       "      <td>11.58824</td>\n",
       "      <td>12.0</td>\n",
       "      <td>0.85</td>\n",
       "      <td>40.00</td>\n",
       "      <td>3.84118</td>\n",
       "      <td>1.65</td>\n",
       "    </tr>\n",
       "    <tr>\n",
       "      <th>4</th>\n",
       "      <td>12352.0</td>\n",
       "      <td>85</td>\n",
       "      <td>2011-02-16</td>\n",
       "      <td>2011-11-03</td>\n",
       "      <td>1</td>\n",
       "      <td>16</td>\n",
       "      <td>536</td>\n",
       "      <td>6.30588</td>\n",
       "      <td>4.0</td>\n",
       "      <td>0.65</td>\n",
       "      <td>376.50</td>\n",
       "      <td>15.93071</td>\n",
       "      <td>4.25</td>\n",
       "    </tr>\n",
       "  </tbody>\n",
       "</table>\n",
       "</div>"
      ],
      "text/plain": [
       "   CustomerID   InvoiceNo count InvoiceDates min InvoiceDates max  \\\n",
       "0      12347.0              170       2010-12-07       2011-10-31   \n",
       "1      12348.0               25       2010-12-16       2011-09-25   \n",
       "2      12349.0               73       2011-11-21       2011-11-21   \n",
       "3      12350.0               17       2011-02-02       2011-02-02   \n",
       "4      12352.0               85       2011-02-16       2011-11-03   \n",
       "\n",
       "   Quantity min  Quantity max  Quantity sum  Quantity mean  Quantity median  \\\n",
       "0             2            48          2026       11.91765             12.0   \n",
       "1             1           120          1477       59.08000             72.0   \n",
       "2             1            36           631        8.64384              6.0   \n",
       "3             1            24           197       11.58824             12.0   \n",
       "4             1            16           536        6.30588              4.0   \n",
       "\n",
       "   UnitPrice min  UnitPrice max  UnitPrice mean  UnitPrice median  \n",
       "0           0.25          12.75         2.74488              2.10  \n",
       "1           0.29          40.00         7.07880              0.85  \n",
       "2           0.42         300.00         8.28904              2.55  \n",
       "3           0.85          40.00         3.84118              1.65  \n",
       "4           0.65         376.50        15.93071              4.25  "
      ]
     },
     "execution_count": 45,
     "metadata": {},
     "output_type": "execute_result"
    }
   ],
   "source": [
    "customer.head()"
   ]
  },
  {
   "cell_type": "code",
   "execution_count": 46,
   "metadata": {},
   "outputs": [
    {
     "data": {
      "text/plain": [
       "CustomerID                 float64\n",
       "InvoiceNo count              int64\n",
       "InvoiceDates min    datetime64[ns]\n",
       "InvoiceDates max    datetime64[ns]\n",
       "Quantity min                 int64\n",
       "Quantity max                 int64\n",
       "Quantity sum                 int64\n",
       "Quantity mean              float64\n",
       "Quantity median            float64\n",
       "UnitPrice min              float64\n",
       "UnitPrice max              float64\n",
       "UnitPrice mean             float64\n",
       "UnitPrice median           float64\n",
       "dtype: object"
      ]
     },
     "execution_count": 46,
     "metadata": {},
     "output_type": "execute_result"
    }
   ],
   "source": [
    "customer['InvoiceDates min'] = pd.to_datetime(customer['InvoiceDates min'])\n",
    "customer['InvoiceDates max'] = pd.to_datetime(customer['InvoiceDates max'])\n",
    "customer.dtypes"
   ]
  },
  {
   "cell_type": "code",
   "execution_count": 47,
   "metadata": {},
   "outputs": [],
   "source": [
    "# Recency = 2011-11-31 - last purchase date \n",
    "# last purchase date = InvoiceDates max\n",
    "\n",
    "customer['Recency'] = (customer['InvoiceDates max'].max() - customer['InvoiceDates max']).dt.days"
   ]
  },
  {
   "cell_type": "code",
   "execution_count": 48,
   "metadata": {},
   "outputs": [
    {
     "data": {
      "text/html": [
       "<div>\n",
       "<style scoped>\n",
       "    .dataframe tbody tr th:only-of-type {\n",
       "        vertical-align: middle;\n",
       "    }\n",
       "\n",
       "    .dataframe tbody tr th {\n",
       "        vertical-align: top;\n",
       "    }\n",
       "\n",
       "    .dataframe thead th {\n",
       "        text-align: right;\n",
       "    }\n",
       "</style>\n",
       "<table border=\"1\" class=\"dataframe\">\n",
       "  <thead>\n",
       "    <tr style=\"text-align: right;\">\n",
       "      <th></th>\n",
       "      <th>CustomerID</th>\n",
       "      <th>InvoiceNo count</th>\n",
       "      <th>InvoiceDates min</th>\n",
       "      <th>InvoiceDates max</th>\n",
       "      <th>Quantity min</th>\n",
       "      <th>Quantity max</th>\n",
       "      <th>Quantity sum</th>\n",
       "      <th>Quantity mean</th>\n",
       "      <th>Quantity median</th>\n",
       "      <th>UnitPrice min</th>\n",
       "      <th>UnitPrice max</th>\n",
       "      <th>UnitPrice mean</th>\n",
       "      <th>UnitPrice median</th>\n",
       "      <th>Recency</th>\n",
       "    </tr>\n",
       "  </thead>\n",
       "  <tbody>\n",
       "    <tr>\n",
       "      <th>0</th>\n",
       "      <td>12347.0</td>\n",
       "      <td>170</td>\n",
       "      <td>2010-12-07</td>\n",
       "      <td>2011-10-31</td>\n",
       "      <td>2</td>\n",
       "      <td>48</td>\n",
       "      <td>2026</td>\n",
       "      <td>11.91765</td>\n",
       "      <td>12.0</td>\n",
       "      <td>0.25</td>\n",
       "      <td>12.75</td>\n",
       "      <td>2.74488</td>\n",
       "      <td>2.10</td>\n",
       "      <td>30</td>\n",
       "    </tr>\n",
       "    <tr>\n",
       "      <th>1</th>\n",
       "      <td>12348.0</td>\n",
       "      <td>25</td>\n",
       "      <td>2010-12-16</td>\n",
       "      <td>2011-09-25</td>\n",
       "      <td>1</td>\n",
       "      <td>120</td>\n",
       "      <td>1477</td>\n",
       "      <td>59.08000</td>\n",
       "      <td>72.0</td>\n",
       "      <td>0.29</td>\n",
       "      <td>40.00</td>\n",
       "      <td>7.07880</td>\n",
       "      <td>0.85</td>\n",
       "      <td>66</td>\n",
       "    </tr>\n",
       "    <tr>\n",
       "      <th>2</th>\n",
       "      <td>12349.0</td>\n",
       "      <td>73</td>\n",
       "      <td>2011-11-21</td>\n",
       "      <td>2011-11-21</td>\n",
       "      <td>1</td>\n",
       "      <td>36</td>\n",
       "      <td>631</td>\n",
       "      <td>8.64384</td>\n",
       "      <td>6.0</td>\n",
       "      <td>0.42</td>\n",
       "      <td>300.00</td>\n",
       "      <td>8.28904</td>\n",
       "      <td>2.55</td>\n",
       "      <td>9</td>\n",
       "    </tr>\n",
       "    <tr>\n",
       "      <th>3</th>\n",
       "      <td>12350.0</td>\n",
       "      <td>17</td>\n",
       "      <td>2011-02-02</td>\n",
       "      <td>2011-02-02</td>\n",
       "      <td>1</td>\n",
       "      <td>24</td>\n",
       "      <td>197</td>\n",
       "      <td>11.58824</td>\n",
       "      <td>12.0</td>\n",
       "      <td>0.85</td>\n",
       "      <td>40.00</td>\n",
       "      <td>3.84118</td>\n",
       "      <td>1.65</td>\n",
       "      <td>301</td>\n",
       "    </tr>\n",
       "    <tr>\n",
       "      <th>4</th>\n",
       "      <td>12352.0</td>\n",
       "      <td>85</td>\n",
       "      <td>2011-02-16</td>\n",
       "      <td>2011-11-03</td>\n",
       "      <td>1</td>\n",
       "      <td>16</td>\n",
       "      <td>536</td>\n",
       "      <td>6.30588</td>\n",
       "      <td>4.0</td>\n",
       "      <td>0.65</td>\n",
       "      <td>376.50</td>\n",
       "      <td>15.93071</td>\n",
       "      <td>4.25</td>\n",
       "      <td>27</td>\n",
       "    </tr>\n",
       "  </tbody>\n",
       "</table>\n",
       "</div>"
      ],
      "text/plain": [
       "   CustomerID   InvoiceNo count InvoiceDates min InvoiceDates max  \\\n",
       "0      12347.0              170       2010-12-07       2011-10-31   \n",
       "1      12348.0               25       2010-12-16       2011-09-25   \n",
       "2      12349.0               73       2011-11-21       2011-11-21   \n",
       "3      12350.0               17       2011-02-02       2011-02-02   \n",
       "4      12352.0               85       2011-02-16       2011-11-03   \n",
       "\n",
       "   Quantity min  Quantity max  Quantity sum  Quantity mean  Quantity median  \\\n",
       "0             2            48          2026       11.91765             12.0   \n",
       "1             1           120          1477       59.08000             72.0   \n",
       "2             1            36           631        8.64384              6.0   \n",
       "3             1            24           197       11.58824             12.0   \n",
       "4             1            16           536        6.30588              4.0   \n",
       "\n",
       "   UnitPrice min  UnitPrice max  UnitPrice mean  UnitPrice median  Recency  \n",
       "0           0.25          12.75         2.74488              2.10       30  \n",
       "1           0.29          40.00         7.07880              0.85       66  \n",
       "2           0.42         300.00         8.28904              2.55        9  \n",
       "3           0.85          40.00         3.84118              1.65      301  \n",
       "4           0.65         376.50        15.93071              4.25       27  "
      ]
     },
     "execution_count": 48,
     "metadata": {},
     "output_type": "execute_result"
    }
   ],
   "source": [
    "customer.head()"
   ]
  },
  {
   "cell_type": "code",
   "execution_count": 49,
   "metadata": {},
   "outputs": [],
   "source": [
    "data['pom'] = data['Quantity']*data['UnitPrice']\n",
    "cust_monetary = pd.DataFrame(data.groupby('CustomerID')['pom'].sum())\n",
    "cust_monetary.reset_index(level=0, inplace=True)"
   ]
  },
  {
   "cell_type": "code",
   "execution_count": 50,
   "metadata": {},
   "outputs": [
    {
     "data": {
      "text/html": [
       "<div>\n",
       "<style scoped>\n",
       "    .dataframe tbody tr th:only-of-type {\n",
       "        vertical-align: middle;\n",
       "    }\n",
       "\n",
       "    .dataframe tbody tr th {\n",
       "        vertical-align: top;\n",
       "    }\n",
       "\n",
       "    .dataframe thead th {\n",
       "        text-align: right;\n",
       "    }\n",
       "</style>\n",
       "<table border=\"1\" class=\"dataframe\">\n",
       "  <thead>\n",
       "    <tr style=\"text-align: right;\">\n",
       "      <th></th>\n",
       "      <th>CustomerID</th>\n",
       "      <th>pom</th>\n",
       "    </tr>\n",
       "  </thead>\n",
       "  <tbody>\n",
       "    <tr>\n",
       "      <th>0</th>\n",
       "      <td>12347.0</td>\n",
       "      <td>3835.58</td>\n",
       "    </tr>\n",
       "    <tr>\n",
       "      <th>1</th>\n",
       "      <td>12348.0</td>\n",
       "      <td>1546.68</td>\n",
       "    </tr>\n",
       "    <tr>\n",
       "      <th>2</th>\n",
       "      <td>12349.0</td>\n",
       "      <td>1757.55</td>\n",
       "    </tr>\n",
       "    <tr>\n",
       "      <th>3</th>\n",
       "      <td>12350.0</td>\n",
       "      <td>334.40</td>\n",
       "    </tr>\n",
       "    <tr>\n",
       "      <th>4</th>\n",
       "      <td>12352.0</td>\n",
       "      <td>2506.04</td>\n",
       "    </tr>\n",
       "  </tbody>\n",
       "</table>\n",
       "</div>"
      ],
      "text/plain": [
       "   CustomerID      pom\n",
       "0     12347.0  3835.58\n",
       "1     12348.0  1546.68\n",
       "2     12349.0  1757.55\n",
       "3     12350.0   334.40\n",
       "4     12352.0  2506.04"
      ]
     },
     "execution_count": 50,
     "metadata": {},
     "output_type": "execute_result"
    }
   ],
   "source": [
    "cust_monetary.head()"
   ]
  },
  {
   "cell_type": "code",
   "execution_count": 51,
   "metadata": {},
   "outputs": [],
   "source": [
    "customer = pd.concat([customer, cust_monetary['pom']], axis=1)"
   ]
  },
  {
   "cell_type": "code",
   "execution_count": 52,
   "metadata": {},
   "outputs": [],
   "source": [
    "customer['Monetary'] = customer['pom']\n",
    "customer = customer.drop(columns=['pom'])"
   ]
  },
  {
   "cell_type": "code",
   "execution_count": 53,
   "metadata": {},
   "outputs": [],
   "source": [
    "customer['Frequency'] = customer['InvoiceNo count']"
   ]
  },
  {
   "cell_type": "code",
   "execution_count": 54,
   "metadata": {},
   "outputs": [
    {
     "data": {
      "text/html": [
       "<div>\n",
       "<style scoped>\n",
       "    .dataframe tbody tr th:only-of-type {\n",
       "        vertical-align: middle;\n",
       "    }\n",
       "\n",
       "    .dataframe tbody tr th {\n",
       "        vertical-align: top;\n",
       "    }\n",
       "\n",
       "    .dataframe thead th {\n",
       "        text-align: right;\n",
       "    }\n",
       "</style>\n",
       "<table border=\"1\" class=\"dataframe\">\n",
       "  <thead>\n",
       "    <tr style=\"text-align: right;\">\n",
       "      <th></th>\n",
       "      <th>CustomerID</th>\n",
       "      <th>InvoiceNo count</th>\n",
       "      <th>InvoiceDates min</th>\n",
       "      <th>InvoiceDates max</th>\n",
       "      <th>Quantity min</th>\n",
       "      <th>Quantity max</th>\n",
       "      <th>Quantity sum</th>\n",
       "      <th>Quantity mean</th>\n",
       "      <th>Quantity median</th>\n",
       "      <th>UnitPrice min</th>\n",
       "      <th>UnitPrice max</th>\n",
       "      <th>UnitPrice mean</th>\n",
       "      <th>UnitPrice median</th>\n",
       "      <th>Recency</th>\n",
       "      <th>Monetary</th>\n",
       "      <th>Frequency</th>\n",
       "      <th>Tenure</th>\n",
       "    </tr>\n",
       "  </thead>\n",
       "  <tbody>\n",
       "    <tr>\n",
       "      <th>0</th>\n",
       "      <td>12347.0</td>\n",
       "      <td>170</td>\n",
       "      <td>2010-12-07</td>\n",
       "      <td>2011-10-31</td>\n",
       "      <td>2</td>\n",
       "      <td>48</td>\n",
       "      <td>2026</td>\n",
       "      <td>11.91765</td>\n",
       "      <td>12.0</td>\n",
       "      <td>0.25</td>\n",
       "      <td>12.75</td>\n",
       "      <td>2.74488</td>\n",
       "      <td>2.10</td>\n",
       "      <td>30</td>\n",
       "      <td>3835.58</td>\n",
       "      <td>170</td>\n",
       "      <td>358</td>\n",
       "    </tr>\n",
       "    <tr>\n",
       "      <th>1</th>\n",
       "      <td>12348.0</td>\n",
       "      <td>25</td>\n",
       "      <td>2010-12-16</td>\n",
       "      <td>2011-09-25</td>\n",
       "      <td>1</td>\n",
       "      <td>120</td>\n",
       "      <td>1477</td>\n",
       "      <td>59.08000</td>\n",
       "      <td>72.0</td>\n",
       "      <td>0.29</td>\n",
       "      <td>40.00</td>\n",
       "      <td>7.07880</td>\n",
       "      <td>0.85</td>\n",
       "      <td>66</td>\n",
       "      <td>1546.68</td>\n",
       "      <td>25</td>\n",
       "      <td>349</td>\n",
       "    </tr>\n",
       "    <tr>\n",
       "      <th>2</th>\n",
       "      <td>12349.0</td>\n",
       "      <td>73</td>\n",
       "      <td>2011-11-21</td>\n",
       "      <td>2011-11-21</td>\n",
       "      <td>1</td>\n",
       "      <td>36</td>\n",
       "      <td>631</td>\n",
       "      <td>8.64384</td>\n",
       "      <td>6.0</td>\n",
       "      <td>0.42</td>\n",
       "      <td>300.00</td>\n",
       "      <td>8.28904</td>\n",
       "      <td>2.55</td>\n",
       "      <td>9</td>\n",
       "      <td>1757.55</td>\n",
       "      <td>73</td>\n",
       "      <td>9</td>\n",
       "    </tr>\n",
       "    <tr>\n",
       "      <th>3</th>\n",
       "      <td>12350.0</td>\n",
       "      <td>17</td>\n",
       "      <td>2011-02-02</td>\n",
       "      <td>2011-02-02</td>\n",
       "      <td>1</td>\n",
       "      <td>24</td>\n",
       "      <td>197</td>\n",
       "      <td>11.58824</td>\n",
       "      <td>12.0</td>\n",
       "      <td>0.85</td>\n",
       "      <td>40.00</td>\n",
       "      <td>3.84118</td>\n",
       "      <td>1.65</td>\n",
       "      <td>301</td>\n",
       "      <td>334.40</td>\n",
       "      <td>17</td>\n",
       "      <td>301</td>\n",
       "    </tr>\n",
       "    <tr>\n",
       "      <th>4</th>\n",
       "      <td>12352.0</td>\n",
       "      <td>85</td>\n",
       "      <td>2011-02-16</td>\n",
       "      <td>2011-11-03</td>\n",
       "      <td>1</td>\n",
       "      <td>16</td>\n",
       "      <td>536</td>\n",
       "      <td>6.30588</td>\n",
       "      <td>4.0</td>\n",
       "      <td>0.65</td>\n",
       "      <td>376.50</td>\n",
       "      <td>15.93071</td>\n",
       "      <td>4.25</td>\n",
       "      <td>27</td>\n",
       "      <td>2506.04</td>\n",
       "      <td>85</td>\n",
       "      <td>287</td>\n",
       "    </tr>\n",
       "  </tbody>\n",
       "</table>\n",
       "</div>"
      ],
      "text/plain": [
       "   CustomerID   InvoiceNo count InvoiceDates min InvoiceDates max  \\\n",
       "0      12347.0              170       2010-12-07       2011-10-31   \n",
       "1      12348.0               25       2010-12-16       2011-09-25   \n",
       "2      12349.0               73       2011-11-21       2011-11-21   \n",
       "3      12350.0               17       2011-02-02       2011-02-02   \n",
       "4      12352.0               85       2011-02-16       2011-11-03   \n",
       "\n",
       "   Quantity min  Quantity max  Quantity sum  Quantity mean  Quantity median  \\\n",
       "0             2            48          2026       11.91765             12.0   \n",
       "1             1           120          1477       59.08000             72.0   \n",
       "2             1            36           631        8.64384              6.0   \n",
       "3             1            24           197       11.58824             12.0   \n",
       "4             1            16           536        6.30588              4.0   \n",
       "\n",
       "   UnitPrice min  UnitPrice max  UnitPrice mean  UnitPrice median  Recency  \\\n",
       "0           0.25          12.75         2.74488              2.10       30   \n",
       "1           0.29          40.00         7.07880              0.85       66   \n",
       "2           0.42         300.00         8.28904              2.55        9   \n",
       "3           0.85          40.00         3.84118              1.65      301   \n",
       "4           0.65         376.50        15.93071              4.25       27   \n",
       "\n",
       "   Monetary  Frequency  Tenure  \n",
       "0   3835.58        170     358  \n",
       "1   1546.68         25     349  \n",
       "2   1757.55         73       9  \n",
       "3    334.40         17     301  \n",
       "4   2506.04         85     287  "
      ]
     },
     "execution_count": 54,
     "metadata": {},
     "output_type": "execute_result"
    }
   ],
   "source": [
    "customer['Tenure'] = (customer['InvoiceDates max'].max() - customer['InvoiceDates min']).dt.days\n",
    "customer.head()"
   ]
  },
  {
   "cell_type": "code",
   "execution_count": 55,
   "metadata": {},
   "outputs": [
    {
     "data": {
      "text/plain": [
       "<AxesSubplot:xlabel='Recency', ylabel='Density'>"
      ]
     },
     "execution_count": 55,
     "metadata": {},
     "output_type": "execute_result"
    },
    {
     "data": {
      "image/png": "[encoded data removed]",
      "text/plain": [
       "<Figure size 1080x288 with 1 Axes>"
      ]
     },
     "metadata": {
      "needs_background": "light"
     },
     "output_type": "display_data"
    }
   ],
   "source": [
    "plt.figure(figsize=(15,4))\n",
    "sns.distplot(customer['Recency'])"
   ]
  },
  {
   "cell_type": "code",
   "execution_count": 56,
   "metadata": {},
   "outputs": [
    {
     "data": {
      "text/plain": [
       "<AxesSubplot:xlabel='Tenure', ylabel='Density'>"
      ]
     },
     "execution_count": 56,
     "metadata": {},
     "output_type": "execute_result"
    },
    {
     "data": {
      "image/png": "[encoded data removed]",
      "text/plain": [
       "<Figure size 1080x288 with 1 Axes>"
      ]
     },
     "metadata": {
      "needs_background": "light"
     },
     "output_type": "display_data"
    }
   ],
   "source": [
    "plt.figure(figsize=(15,4))\n",
    "sns.distplot(customer['Tenure'])"
   ]
  },
  {
   "cell_type": "code",
   "execution_count": 57,
   "metadata": {},
   "outputs": [
    {
     "data": {
      "text/plain": [
       "<AxesSubplot:xlabel='Monetary', ylabel='Density'>"
      ]
     },
     "execution_count": 57,
     "metadata": {},
     "output_type": "execute_result"
    },
    {
     "data": {
      "image/png": "[encoded data removed]",
      "text/plain": [
       "<Figure size 1080x288 with 1 Axes>"
      ]
     },
     "metadata": {
      "needs_background": "light"
     },
     "output_type": "display_data"
    }
   ],
   "source": [
    "plt.figure(figsize=(15,4))\n",
    "sns.distplot(customer['Monetary'])"
   ]
  },
  {
   "cell_type": "code",
   "execution_count": 58,
   "metadata": {},
   "outputs": [
    {
     "data": {
      "text/plain": [
       "<AxesSubplot:xlabel='Frequency', ylabel='Density'>"
      ]
     },
     "execution_count": 58,
     "metadata": {},
     "output_type": "execute_result"
    },
    {
     "data": {
      "image/png": "[encoded data removed]",
      "text/plain": [
       "<Figure size 1080x288 with 1 Axes>"
      ]
     },
     "metadata": {
      "needs_background": "light"
     },
     "output_type": "display_data"
    }
   ],
   "source": [
    "plt.figure(figsize=(15,4))\n",
    "sns.distplot(customer['Frequency'])"
   ]
  },
  {
   "cell_type": "code",
   "execution_count": 59,
   "metadata": {},
   "outputs": [
    {
     "data": {
      "text/plain": [
       "<AxesSubplot:xlabel='Frequency', ylabel='Monetary'>"
      ]
     },
     "execution_count": 59,
     "metadata": {},
     "output_type": "execute_result"
    },
    {
     "data": {
      "image/png": "[encoded data removed]",
      "text/plain": [
       "<Figure size 1080x504 with 1 Axes>"
      ]
     },
     "metadata": {
      "needs_background": "light"
     },
     "output_type": "display_data"
    }
   ],
   "source": [
    "plt.figure(figsize=(15,7))\n",
    "\n",
    "sns.scatterplot(\n",
    "    data=customer, x=\"Frequency\", y=\"Monetary\", sizes=(20, 200), hue_norm=(0, 4), legend=\"full\"\n",
    ")"
   ]
  },
  {
   "cell_type": "code",
   "execution_count": 60,
   "metadata": {},
   "outputs": [
    {
     "data": {
      "text/plain": [
       "<AxesSubplot:xlabel='Recency', ylabel='Frequency'>"
      ]
     },
     "execution_count": 60,
     "metadata": {},
     "output_type": "execute_result"
    },
    {
     "data": {
      "image/png": "[encoded data removed]",
      "text/plain": [
       "<Figure size 1080x504 with 1 Axes>"
      ]
     },
     "metadata": {
      "needs_background": "light"
     },
     "output_type": "display_data"
    }
   ],
   "source": [
    "plt.figure(figsize=(15,7))\n",
    "\n",
    "sns.scatterplot(\n",
    "    data=customer, x=\"Recency\", y=\"Frequency\", sizes=(20, 200), hue_norm=(0, 4), legend=\"full\"\n",
    ")"
   ]
  },
  {
   "cell_type": "code",
   "execution_count": 61,
   "metadata": {},
   "outputs": [
    {
     "data": {
      "text/plain": [
       "<AxesSubplot:xlabel='Recency', ylabel='Monetary'>"
      ]
     },
     "execution_count": 61,
     "metadata": {},
     "output_type": "execute_result"
    },
    {
     "data": {
      "image/png": "[encoded data removed]",
      "text/plain": [
       "<Figure size 1080x504 with 1 Axes>"
      ]
     },
     "metadata": {
      "needs_background": "light"
     },
     "output_type": "display_data"
    }
   ],
   "source": [
    "plt.figure(figsize=(15,7))\n",
    "\n",
    "sns.scatterplot(\n",
    "    data=customer, x=\"Recency\", y=\"Monetary\", sizes=(20, 200), hue_norm=(0, 4), legend=\"full\"\n",
    ")"
   ]
  },
  {
   "cell_type": "code",
   "execution_count": 62,
   "metadata": {},
   "outputs": [],
   "source": [
    "#function for ordering cluster numbers\n",
    "\n",
    "def order_cluster(cluster_field_name, target_field_name,df,ascending):\n",
    "    new_cluster_field_name = 'new_' + cluster_field_name\n",
    "    df_new = df.groupby(cluster_field_name)[target_field_name].mean().reset_index()\n",
    "    df_new = df_new.sort_values(by=target_field_name,ascending=ascending).reset_index(drop=True)\n",
    "    df_new['index'] = df_new.index\n",
    "    df_final = pd.merge(df,df_new[[cluster_field_name,'index']], on=cluster_field_name)\n",
    "    df_final = df_final.drop([cluster_field_name],axis=1)\n",
    "    df_final = df_final.rename(columns={\"index\":cluster_field_name})\n",
    "    return df_final"
   ]
  },
  {
   "cell_type": "code",
   "execution_count": 63,
   "metadata": {},
   "outputs": [],
   "source": [
    "from sklearn.cluster import KMeans"
   ]
  },
  {
   "cell_type": "code",
   "execution_count": 64,
   "metadata": {},
   "outputs": [],
   "source": [
    "kmeans = KMeans(n_clusters=4, random_state=1)\n",
    "kmeans.fit(customer[['Recency']])\n",
    "customer['recencyCluster'] = kmeans.predict(customer[['Recency']])\n",
    "\n",
    "customer = order_cluster('recencyCluster', 'Recency', customer, False)"
   ]
  },
  {
   "cell_type": "code",
   "execution_count": 65,
   "metadata": {},
   "outputs": [],
   "source": [
    "kmeans = KMeans(n_clusters=4, random_state=2)\n",
    "kmeans.fit(customer[['Monetary']])\n",
    "customer['monetaryCluster'] = kmeans.predict(customer[['Monetary']])\n",
    "\n",
    "customer = order_cluster('monetaryCluster', 'Monetary', customer, True)"
   ]
  },
  {
   "cell_type": "code",
   "execution_count": 66,
   "metadata": {},
   "outputs": [],
   "source": [
    "kmeans = KMeans(n_clusters=4, random_state=2)\n",
    "kmeans.fit(customer[['Frequency']])\n",
    "customer['frequencyCluster'] = kmeans.predict(customer[['Frequency']])\n",
    "\n",
    "customer = order_cluster('frequencyCluster', 'Frequency', customer, True)"
   ]
  },
  {
   "cell_type": "code",
   "execution_count": 67,
   "metadata": {},
   "outputs": [],
   "source": [
    "kmeans = KMeans(n_clusters=4, random_state=2)\n",
    "kmeans.fit(customer[['Tenure']])\n",
    "customer['tenureCluster'] = kmeans.predict(customer[['Tenure']])\n",
    "\n",
    "customer = order_cluster('tenureCluster', 'Tenure', customer, True)"
   ]
  },
  {
   "cell_type": "code",
   "execution_count": 68,
   "metadata": {},
   "outputs": [],
   "source": [
    "kmeans = KMeans(n_clusters=4, random_state=22)\n",
    "kmeans.fit(customer[['recencyCluster', 'frequencyCluster', 'monetaryCluster','tenureCluster']])\n",
    "customer['ClusterRFMT'] = kmeans.predict(customer[['recencyCluster', 'frequencyCluster', 'monetaryCluster','tenureCluster']])\n",
    "\n",
    "customer = order_cluster('ClusterRFMT', 'Frequency', customer, True)"
   ]
  },
  {
   "cell_type": "code",
   "execution_count": 69,
   "metadata": {},
   "outputs": [
    {
     "data": {
      "text/html": [
       "<div>\n",
       "<style scoped>\n",
       "    .dataframe tbody tr th:only-of-type {\n",
       "        vertical-align: middle;\n",
       "    }\n",
       "\n",
       "    .dataframe tbody tr th {\n",
       "        vertical-align: top;\n",
       "    }\n",
       "\n",
       "    .dataframe thead tr th {\n",
       "        text-align: left;\n",
       "    }\n",
       "\n",
       "    .dataframe thead tr:last-of-type th {\n",
       "        text-align: right;\n",
       "    }\n",
       "</style>\n",
       "<table border=\"1\" class=\"dataframe\">\n",
       "  <thead>\n",
       "    <tr>\n",
       "      <th></th>\n",
       "      <th colspan=\"3\" halign=\"left\">Recency</th>\n",
       "      <th colspan=\"2\" halign=\"left\">Frequency</th>\n",
       "      <th colspan=\"2\" halign=\"left\">Monetary</th>\n",
       "      <th colspan=\"2\" halign=\"left\">Tenure</th>\n",
       "    </tr>\n",
       "    <tr>\n",
       "      <th></th>\n",
       "      <th>count</th>\n",
       "      <th>mean</th>\n",
       "      <th>median</th>\n",
       "      <th>mean</th>\n",
       "      <th>median</th>\n",
       "      <th>mean</th>\n",
       "      <th>median</th>\n",
       "      <th>mean</th>\n",
       "      <th>median</th>\n",
       "    </tr>\n",
       "    <tr>\n",
       "      <th>ClusterRFMT</th>\n",
       "      <th></th>\n",
       "      <th></th>\n",
       "      <th></th>\n",
       "      <th></th>\n",
       "      <th></th>\n",
       "      <th></th>\n",
       "      <th></th>\n",
       "      <th></th>\n",
       "      <th></th>\n",
       "    </tr>\n",
       "  </thead>\n",
       "  <tbody>\n",
       "    <tr>\n",
       "      <th>0</th>\n",
       "      <td>636</td>\n",
       "      <td>276.35692</td>\n",
       "      <td>279</td>\n",
       "      <td>31.33648</td>\n",
       "      <td>19</td>\n",
       "      <td>499.04321</td>\n",
       "      <td>307.210</td>\n",
       "      <td>313.91824</td>\n",
       "      <td>315</td>\n",
       "    </tr>\n",
       "    <tr>\n",
       "      <th>1</th>\n",
       "      <td>973</td>\n",
       "      <td>137.07194</td>\n",
       "      <td>138</td>\n",
       "      <td>43.07503</td>\n",
       "      <td>27</td>\n",
       "      <td>816.09031</td>\n",
       "      <td>477.910</td>\n",
       "      <td>208.46043</td>\n",
       "      <td>209</td>\n",
       "    </tr>\n",
       "    <tr>\n",
       "      <th>2</th>\n",
       "      <td>1345</td>\n",
       "      <td>32.31970</td>\n",
       "      <td>26</td>\n",
       "      <td>54.72268</td>\n",
       "      <td>30</td>\n",
       "      <td>771.93405</td>\n",
       "      <td>430.500</td>\n",
       "      <td>73.47361</td>\n",
       "      <td>59</td>\n",
       "    </tr>\n",
       "    <tr>\n",
       "      <th>3</th>\n",
       "      <td>1310</td>\n",
       "      <td>25.73817</td>\n",
       "      <td>17</td>\n",
       "      <td>184.29847</td>\n",
       "      <td>113</td>\n",
       "      <td>3636.36457</td>\n",
       "      <td>1891.805</td>\n",
       "      <td>319.06565</td>\n",
       "      <td>328</td>\n",
       "    </tr>\n",
       "  </tbody>\n",
       "</table>\n",
       "</div>"
      ],
      "text/plain": [
       "            Recency                    Frequency           Monetary            \\\n",
       "              count       mean median       mean median        mean    median   \n",
       "ClusterRFMT                                                                     \n",
       "0               636  276.35692    279   31.33648     19   499.04321   307.210   \n",
       "1               973  137.07194    138   43.07503     27   816.09031   477.910   \n",
       "2              1345   32.31970     26   54.72268     30   771.93405   430.500   \n",
       "3              1310   25.73817     17  184.29847    113  3636.36457  1891.805   \n",
       "\n",
       "                Tenure         \n",
       "                  mean median  \n",
       "ClusterRFMT                    \n",
       "0            313.91824    315  \n",
       "1            208.46043    209  \n",
       "2             73.47361     59  \n",
       "3            319.06565    328  "
      ]
     },
     "execution_count": 69,
     "metadata": {},
     "output_type": "execute_result"
    }
   ],
   "source": [
    "customer.groupby('ClusterRFMT').agg({'Recency':['count', 'mean', 'median'],\n",
    "                                 'Frequency':['mean', 'median'],\n",
    "                                 'Monetary':['mean', 'median'],\n",
    "                                 'Tenure':['mean', 'median']})"
   ]
  },
  {
   "cell_type": "code",
   "execution_count": 70,
   "metadata": {},
   "outputs": [],
   "source": [
    "kmeans = KMeans(n_clusters=4, random_state=23)\n",
    "kmeans.fit(customer[['recencyCluster', 'frequencyCluster', 'monetaryCluster']])\n",
    "customer['ClusterRFM'] = kmeans.predict(customer[['recencyCluster', 'frequencyCluster', 'monetaryCluster']])\n",
    "\n",
    "customer = order_cluster('ClusterRFM', 'Recency', customer, False)"
   ]
  },
  {
   "cell_type": "code",
   "execution_count": 71,
   "metadata": {},
   "outputs": [
    {
     "data": {
      "text/html": [
       "<div>\n",
       "<style scoped>\n",
       "    .dataframe tbody tr th:only-of-type {\n",
       "        vertical-align: middle;\n",
       "    }\n",
       "\n",
       "    .dataframe tbody tr th {\n",
       "        vertical-align: top;\n",
       "    }\n",
       "\n",
       "    .dataframe thead tr th {\n",
       "        text-align: left;\n",
       "    }\n",
       "\n",
       "    .dataframe thead tr:last-of-type th {\n",
       "        text-align: right;\n",
       "    }\n",
       "</style>\n",
       "<table border=\"1\" class=\"dataframe\">\n",
       "  <thead>\n",
       "    <tr>\n",
       "      <th></th>\n",
       "      <th colspan=\"3\" halign=\"left\">Recency</th>\n",
       "      <th colspan=\"2\" halign=\"left\">Frequency</th>\n",
       "      <th colspan=\"2\" halign=\"left\">Monetary</th>\n",
       "      <th colspan=\"2\" halign=\"left\">Tenure</th>\n",
       "    </tr>\n",
       "    <tr>\n",
       "      <th></th>\n",
       "      <th>count</th>\n",
       "      <th>mean</th>\n",
       "      <th>median</th>\n",
       "      <th>mean</th>\n",
       "      <th>median</th>\n",
       "      <th>mean</th>\n",
       "      <th>median</th>\n",
       "      <th>mean</th>\n",
       "      <th>median</th>\n",
       "    </tr>\n",
       "    <tr>\n",
       "      <th>ClusterRFM</th>\n",
       "      <th></th>\n",
       "      <th></th>\n",
       "      <th></th>\n",
       "      <th></th>\n",
       "      <th></th>\n",
       "      <th></th>\n",
       "      <th></th>\n",
       "      <th></th>\n",
       "      <th></th>\n",
       "    </tr>\n",
       "  </thead>\n",
       "  <tbody>\n",
       "    <tr>\n",
       "      <th>0</th>\n",
       "      <td>1149</td>\n",
       "      <td>235.12097</td>\n",
       "      <td>231.0</td>\n",
       "      <td>30.27676</td>\n",
       "      <td>19.0</td>\n",
       "      <td>519.68859</td>\n",
       "      <td>308.580</td>\n",
       "      <td>266.23673</td>\n",
       "      <td>268</td>\n",
       "    </tr>\n",
       "    <tr>\n",
       "      <th>1</th>\n",
       "      <td>1016</td>\n",
       "      <td>77.51673</td>\n",
       "      <td>70.0</td>\n",
       "      <td>53.93307</td>\n",
       "      <td>34.5</td>\n",
       "      <td>971.43229</td>\n",
       "      <td>638.135</td>\n",
       "      <td>188.05118</td>\n",
       "      <td>177</td>\n",
       "    </tr>\n",
       "    <tr>\n",
       "      <th>2</th>\n",
       "      <td>1662</td>\n",
       "      <td>19.14019</td>\n",
       "      <td>16.5</td>\n",
       "      <td>63.52768</td>\n",
       "      <td>53.0</td>\n",
       "      <td>1295.59910</td>\n",
       "      <td>786.745</td>\n",
       "      <td>174.26715</td>\n",
       "      <td>175</td>\n",
       "    </tr>\n",
       "    <tr>\n",
       "      <th>3</th>\n",
       "      <td>437</td>\n",
       "      <td>12.81236</td>\n",
       "      <td>9.0</td>\n",
       "      <td>415.80778</td>\n",
       "      <td>294.0</td>\n",
       "      <td>7267.62728</td>\n",
       "      <td>4147.960</td>\n",
       "      <td>303.62471</td>\n",
       "      <td>349</td>\n",
       "    </tr>\n",
       "  </tbody>\n",
       "</table>\n",
       "</div>"
      ],
      "text/plain": [
       "           Recency                    Frequency           Monetary            \\\n",
       "             count       mean median       mean median        mean    median   \n",
       "ClusterRFM                                                                     \n",
       "0             1149  235.12097  231.0   30.27676   19.0   519.68859   308.580   \n",
       "1             1016   77.51673   70.0   53.93307   34.5   971.43229   638.135   \n",
       "2             1662   19.14019   16.5   63.52768   53.0  1295.59910   786.745   \n",
       "3              437   12.81236    9.0  415.80778  294.0  7267.62728  4147.960   \n",
       "\n",
       "               Tenure         \n",
       "                 mean median  \n",
       "ClusterRFM                    \n",
       "0           266.23673    268  \n",
       "1           188.05118    177  \n",
       "2           174.26715    175  \n",
       "3           303.62471    349  "
      ]
     },
     "execution_count": 71,
     "metadata": {},
     "output_type": "execute_result"
    }
   ],
   "source": [
    "customer.groupby('ClusterRFM').agg({'Recency':['count', 'mean', 'median'],\n",
    "                                 'Frequency':['mean', 'median'],\n",
    "                                 'Monetary':['mean', 'median'],\n",
    "                                 'Tenure':['mean', 'median']})"
   ]
  },
  {
   "cell_type": "code",
   "execution_count": 72,
   "metadata": {},
   "outputs": [
    {
     "data": {
      "text/plain": [
       "<AxesSubplot:xlabel='Frequency', ylabel='Monetary'>"
      ]
     },
     "execution_count": 72,
     "metadata": {},
     "output_type": "execute_result"
    },
    {
     "data": {
      "image/png": "[encoded data removed]",
      "text/plain": [
       "<Figure size 1080x504 with 1 Axes>"
      ]
     },
     "metadata": {
      "needs_background": "light"
     },
     "output_type": "display_data"
    }
   ],
   "source": [
    "plt.figure(figsize=(15,7))\n",
    "\n",
    "sns.scatterplot(\n",
    "    data=customer, x=\"Frequency\", y=\"Monetary\", sizes=(20, 200), hue=\"ClusterRFM\", hue_norm=(0, 4), legend=\"full\"\n",
    ")"
   ]
  },
  {
   "cell_type": "code",
   "execution_count": null,
   "metadata": {},
   "outputs": [],
   "source": []
  }
 ],
 "metadata": {
  "kernelspec": {
   "display_name": "Python 3",
   "language": "python",
   "name": "python3"
  },
  "language_info": {
   "codemirror_mode": {
    "name": "ipython",
    "version": 3
   },
   "file_extension": ".py",
   "mimetype": "text/x-python",
   "name": "python",
   "nbconvert_exporter": "python",
   "pygments_lexer": "ipython3",
   "version": "3.8.5"
  }
 },
 "nbformat": 4,
 "nbformat_minor": 4
}
